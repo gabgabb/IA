{
 "cells": [
  {
   "cell_type": "code",
   "execution_count": null,
   "metadata": {
    "collapsed": true
   },
   "outputs": [],
   "source": [
    "import numpy as np\n",
    "import pandas as pd\n",
    "# Affichage complet des dataframes\n",
    "pd.set_option('display.max_columns',100)\n",
    "pd.set_option('display.max_rows',1000)\n",
    "\n",
    "# Librairie graphique plotly\n",
    "import plotly.graph_objs as go"
   ]
  },
  {
   "cell_type": "code",
   "execution_count": null,
   "outputs": [],
   "source": [
    "df=pd.read_csv(\"data/fifa22.csv\")\n",
    "df.head(3)"
   ],
   "metadata": {
    "collapsed": false
   }
  },
  {
   "cell_type": "code",
   "execution_count": null,
   "outputs": [],
   "source": [
    "attaquants=['CF', 'ST', 'LW', 'LF', 'RF','RW','RS','LS']\n",
    "milieux=['LM','CAM','CDM','CM','RM','RCM','RDM','LCM','LDM','RAM']\n",
    "defenseurs=['LWB','LB','CB','RB','RWB','LCB','RCB']\n",
    "gardiens=['GK']\n",
    "\n",
    "def pos2(position):\n",
    "    if position in attaquants:\n",
    "        return 'Attaquant'\n",
    "    elif position in milieux:\n",
    "        return 'Milieu'\n",
    "    elif position in defenseurs:\n",
    "        return 'Defenseur'\n",
    "    elif position in gardiens:\n",
    "        return 'Gardien'\n",
    "    else:\n",
    "        return 'nan'\n",
    "df[\"Position2\"]=df[\"club_position\"].apply(lambda x: pos2(x))\n",
    "df[\"Position2\"].value_counts()"
   ],
   "metadata": {
    "collapsed": false
   }
  },
  {
   "cell_type": "code",
   "execution_count": null,
   "outputs": [],
   "source": [
    "skills_ratings = ['pace','shooting','passing','dribbling','defending','physic','attacking_crossing','attacking_finishing',\n",
    "                  'attacking_heading_accuracy','attacking_short_passing','attacking_volleys','skill_dribbling','skill_curve',\n",
    "                  'skill_fk_accuracy','skill_long_passing','skill_ball_control','movement_acceleration','movement_sprint_speed',\n",
    "                  'movement_agility','movement_reactions','movement_balance','power_shot_power','power_jumping','power_stamina',\n",
    "                  'power_strength','power_long_shots','mentality_aggression','mentality_interceptions','mentality_positioning',\n",
    "                  'mentality_vision','mentality_penalties','mentality_composure','defending_marking_awareness','defending_standing_tackle',\n",
    "                  'defending_sliding_tackle','goalkeeping_diving','goalkeeping_handling','goalkeeping_kicking','goalkeeping_positioning',\n",
    "                  'goalkeeping_reflexes','goalkeeping_speed']"
   ],
   "metadata": {
    "collapsed": false
   }
  },
  {
   "cell_type": "code",
   "execution_count": null,
   "outputs": [],
   "source": [],
   "metadata": {
    "collapsed": false
   }
  }
 ],
 "metadata": {
  "kernelspec": {
   "display_name": "Python 3",
   "language": "python",
   "name": "python3"
  },
  "language_info": {
   "codemirror_mode": {
    "name": "ipython",
    "version": 2
   },
   "file_extension": ".py",
   "mimetype": "text/x-python",
   "name": "python",
   "nbconvert_exporter": "python",
   "pygments_lexer": "ipython2",
   "version": "2.7.6"
  }
 },
 "nbformat": 4,
 "nbformat_minor": 0
}
