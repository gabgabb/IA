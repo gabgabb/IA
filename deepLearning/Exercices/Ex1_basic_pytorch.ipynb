{
 "cells": [
  {
   "cell_type": "code",
   "execution_count": 1,
   "metadata": {
    "collapsed": true,
    "ExecuteTime": {
     "start_time": "2023-04-12T10:35:03.481857Z",
     "end_time": "2023-04-12T10:35:06.249145Z"
    }
   },
   "outputs": [],
   "source": [
    "%matplotlib inline\n",
    "from matplotlib import pyplot as plt\n",
    "import numpy as np\n",
    "import torch\n",
    "torch.set_printoptions(edgeitems=2) #Affiche les 2 premiers / derniers items d'un tensor"
   ]
  },
  {
   "cell_type": "code",
   "execution_count": 2,
   "outputs": [
    {
     "data": {
      "text/plain": "tensor([3.5700, 5.5900, 5.8200, 8.1900, 5.6300, 4.8900, 3.3900, 2.1800, 4.8400,\n        6.0400, 6.8400])"
     },
     "execution_count": 2,
     "metadata": {},
     "output_type": "execute_result"
    }
   ],
   "source": [
    "#On va essayer de transformer des températures de farheineiht en degrés\n",
    "#Tensor Features (11 exemple, avec une seule valeur)\n",
    "t_u = torch.tensor([35.7, 55.9, 58.2, 81.9, 56.3, 48.9, 33.9, 21.8, 48.4, 60.4, 68.4])\n",
    "#Tensor des labels\n",
    "t_c = torch.tensor([0.5, 14.0, 15.0, 28.0, 11.0, 8.0, 3.0, -4.0, 6.0, 13.0, 21.0])\n",
    "\n",
    "t_un = 0.1 * t_u #Normalisation simple des features ()\n",
    "t_un\n"
   ],
   "metadata": {
    "collapsed": false,
    "ExecuteTime": {
     "start_time": "2023-04-12T10:35:06.257251Z",
     "end_time": "2023-04-12T10:35:06.343790Z"
    }
   }
  },
  {
   "cell_type": "code",
   "execution_count": 3,
   "outputs": [],
   "source": [
    "# Fonction Hypothèse\n",
    "def model(t_u, w, b):\n",
    "    return w * t_u + b\n"
   ],
   "metadata": {
    "collapsed": false,
    "ExecuteTime": {
     "start_time": "2023-04-12T10:35:06.335270Z",
     "end_time": "2023-04-12T10:35:06.442335Z"
    }
   }
  },
  {
   "cell_type": "code",
   "execution_count": 4,
   "outputs": [],
   "source": [
    "#Fonction de coût (Mean Square Error)\n",
    "def loss_fn(t_p, t_c):\n",
    "    squared_diffs = (t_p - t_c)**2\n",
    "    return squared_diffs.mean()"
   ],
   "metadata": {
    "collapsed": false,
    "ExecuteTime": {
     "start_time": "2023-04-12T10:35:06.382659Z",
     "end_time": "2023-04-12T10:35:06.478434Z"
    }
   }
  },
  {
   "cell_type": "code",
   "execution_count": 5,
   "outputs": [
    {
     "ename": "NameError",
     "evalue": "name 'params' is not defined",
     "output_type": "error",
     "traceback": [
      "\u001B[0;31m---------------------------------------------------------------------------\u001B[0m",
      "\u001B[0;31mNameError\u001B[0m                                 Traceback (most recent call last)",
      "Cell \u001B[0;32mIn[5], line 2\u001B[0m\n\u001B[1;32m      1\u001B[0m \u001B[38;5;66;03m# Calcule la Fonction de coût en lui passant le Tensor des params:\u001B[39;00m\n\u001B[0;32m----> 2\u001B[0m loss \u001B[38;5;241m=\u001B[39m loss_fn(model(t_un, \u001B[38;5;241m*\u001B[39m\u001B[43mparams\u001B[49m), t_c)\n\u001B[1;32m      3\u001B[0m \u001B[38;5;66;03m# Lance la gradient Descent (Backpropagation). Pytorch a retenu les opérations réalisées pour calculer loss\u001B[39;00m\n\u001B[1;32m      4\u001B[0m loss\u001B[38;5;241m.\u001B[39mbackward()\n",
      "\u001B[0;31mNameError\u001B[0m: name 'params' is not defined"
     ]
    }
   ],
   "source": [
    "# Calcule la Fonction de coût en lui passant le Tensor des params:\n",
    "loss = loss_fn(model(t_un, *params), t_c)\n",
    "# Lance la gradient Descent (Backpropagation). Pytorch a retenu les opérations réalisées pour calculer loss\n",
    "loss.backward()\n",
    "#Le gradient des paramètres est maintenant renseigné\n",
    "params.grad"
   ],
   "metadata": {
    "collapsed": false
   }
  },
  {
   "cell_type": "code",
   "execution_count": null,
   "outputs": [],
   "source": [
    "# !!! Il faut remettre le gradient à 0 entre chaque itération, car les gradients s'accumulent\n",
    "if params.grad is not None:\n",
    "    params.grad.zero_()\n",
    "print(params.grad)"
   ],
   "metadata": {
    "collapsed": false
   }
  },
  {
   "cell_type": "code",
   "execution_count": null,
   "outputs": [],
   "source": [
    "#Apprentissage\n",
    "n_epochs=5000\n",
    "learning_rate = 1e-2\n",
    "\n",
    "for epoch in range(1, n_epochs + 1):\n",
    "    if params.grad is not None:  # <1>\n",
    "        params.grad.zero_()\n",
    "\n",
    "    t_p = model(t_un, *params)\n",
    "    loss = loss_fn(t_p, t_c)\n",
    "    loss.backward()\n",
    "\n",
    "    with torch.no_grad():  # <2>\n",
    "        params -= learning_rate * params.grad\n",
    "\n",
    "    if epoch % 500 == 0:\n",
    "        print('Epoch %d, Loss %f' % (epoch, float(loss)))\n",
    "\n",
    "print(params)"
   ],
   "metadata": {
    "collapsed": false
   }
  },
  {
   "cell_type": "code",
   "execution_count": null,
   "outputs": [],
   "source": [
    "t_p = model(t_un, *params)\n",
    "\n",
    "plt.xlabel(\"Temperature (°Fahrenheit)\")\n",
    "plt.ylabel(\"Temperature (°Celsius)\")\n",
    "\n",
    "# Il faut appliquer  detach à tp pour qu'il ne fasse pas partie du calcul du gradient\n",
    "plt.plot(t_u.numpy(), t_p.detach().numpy())\n",
    "plt.plot(t_u.numpy(), t_c.numpy(), 'o')\n",
    "plt.show()\n"
   ],
   "metadata": {
    "collapsed": false
   }
  }
 ],
 "metadata": {
  "kernelspec": {
   "display_name": "Python 3",
   "language": "python",
   "name": "python3"
  },
  "language_info": {
   "codemirror_mode": {
    "name": "ipython",
    "version": 2
   },
   "file_extension": ".py",
   "mimetype": "text/x-python",
   "name": "python",
   "nbconvert_exporter": "python",
   "pygments_lexer": "ipython2",
   "version": "2.7.6"
  }
 },
 "nbformat": 4,
 "nbformat_minor": 0
}
