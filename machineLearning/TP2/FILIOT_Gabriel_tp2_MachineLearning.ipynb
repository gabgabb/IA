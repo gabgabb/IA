{
 "cells": [
  {
   "cell_type": "code",
   "execution_count": 2,
   "metadata": {
    "collapsed": true
   },
   "outputs": [],
   "source": [
    "import pandas as pd\n",
    "import numpy as np\n",
    "import os\n",
    "\n",
    "from IPython.display import Image\n",
    "\n",
    "%matplotlib inline\n",
    "import matplotlib.pyplot as plt\n",
    "from matplotlib.colors import ListedColormap\n",
    "\n",
    "from sklearn.ensemble import AdaBoostClassifier\n",
    "from sklearn.ensemble import GradientBoostingClassifier\n",
    "from sklearn.ensemble import RandomForestClassifier\n",
    "\n",
    "from sklearn.metrics import accuracy_score\n",
    "\n",
    "from sklearn.model_selection import train_test_split\n",
    "\n",
    "from sklearn.tree import DecisionTreeClassifier\n",
    "from sklearn.tree import export_graphviz"
   ]
  },
  {
   "cell_type": "code",
   "execution_count": 38,
   "outputs": [
    {
     "data": {
      "text/plain": "   PassengerId  Survived  Pclass  Sex   Age     Fare  Embarked  IsAlone  Title\n0            1         0       3    1  22.0   7.2500         0        0      1\n1            2         1       1    0  38.0  71.2833         1        0      3\n2            3         1       3    0  26.0   7.9250         0        1      2\n3            4         1       1    0  35.0  53.1000         0        0      3\n4            5         0       3    1  35.0   8.0500         0        1      1\n5            6         0       3    1  41.0   8.4583         2        1      1\n6            7         0       1    1  54.0  51.8625         0        1      1\n7            8         0       3    1   2.0  21.0750         0        0      4\n8            9         1       3    0  27.0  11.1333         0        0      3\n9           10         1       2    0  14.0  30.0708         1        0      3",
      "text/html": "<div>\n<style scoped>\n    .dataframe tbody tr th:only-of-type {\n        vertical-align: middle;\n    }\n\n    .dataframe tbody tr th {\n        vertical-align: top;\n    }\n\n    .dataframe thead th {\n        text-align: right;\n    }\n</style>\n<table border=\"1\" class=\"dataframe\">\n  <thead>\n    <tr style=\"text-align: right;\">\n      <th></th>\n      <th>PassengerId</th>\n      <th>Survived</th>\n      <th>Pclass</th>\n      <th>Sex</th>\n      <th>Age</th>\n      <th>Fare</th>\n      <th>Embarked</th>\n      <th>IsAlone</th>\n      <th>Title</th>\n    </tr>\n  </thead>\n  <tbody>\n    <tr>\n      <th>0</th>\n      <td>1</td>\n      <td>0</td>\n      <td>3</td>\n      <td>1</td>\n      <td>22.0</td>\n      <td>7.2500</td>\n      <td>0</td>\n      <td>0</td>\n      <td>1</td>\n    </tr>\n    <tr>\n      <th>1</th>\n      <td>2</td>\n      <td>1</td>\n      <td>1</td>\n      <td>0</td>\n      <td>38.0</td>\n      <td>71.2833</td>\n      <td>1</td>\n      <td>0</td>\n      <td>3</td>\n    </tr>\n    <tr>\n      <th>2</th>\n      <td>3</td>\n      <td>1</td>\n      <td>3</td>\n      <td>0</td>\n      <td>26.0</td>\n      <td>7.9250</td>\n      <td>0</td>\n      <td>1</td>\n      <td>2</td>\n    </tr>\n    <tr>\n      <th>3</th>\n      <td>4</td>\n      <td>1</td>\n      <td>1</td>\n      <td>0</td>\n      <td>35.0</td>\n      <td>53.1000</td>\n      <td>0</td>\n      <td>0</td>\n      <td>3</td>\n    </tr>\n    <tr>\n      <th>4</th>\n      <td>5</td>\n      <td>0</td>\n      <td>3</td>\n      <td>1</td>\n      <td>35.0</td>\n      <td>8.0500</td>\n      <td>0</td>\n      <td>1</td>\n      <td>1</td>\n    </tr>\n    <tr>\n      <th>5</th>\n      <td>6</td>\n      <td>0</td>\n      <td>3</td>\n      <td>1</td>\n      <td>41.0</td>\n      <td>8.4583</td>\n      <td>2</td>\n      <td>1</td>\n      <td>1</td>\n    </tr>\n    <tr>\n      <th>6</th>\n      <td>7</td>\n      <td>0</td>\n      <td>1</td>\n      <td>1</td>\n      <td>54.0</td>\n      <td>51.8625</td>\n      <td>0</td>\n      <td>1</td>\n      <td>1</td>\n    </tr>\n    <tr>\n      <th>7</th>\n      <td>8</td>\n      <td>0</td>\n      <td>3</td>\n      <td>1</td>\n      <td>2.0</td>\n      <td>21.0750</td>\n      <td>0</td>\n      <td>0</td>\n      <td>4</td>\n    </tr>\n    <tr>\n      <th>8</th>\n      <td>9</td>\n      <td>1</td>\n      <td>3</td>\n      <td>0</td>\n      <td>27.0</td>\n      <td>11.1333</td>\n      <td>0</td>\n      <td>0</td>\n      <td>3</td>\n    </tr>\n    <tr>\n      <th>9</th>\n      <td>10</td>\n      <td>1</td>\n      <td>2</td>\n      <td>0</td>\n      <td>14.0</td>\n      <td>30.0708</td>\n      <td>1</td>\n      <td>0</td>\n      <td>3</td>\n    </tr>\n  </tbody>\n</table>\n</div>"
     },
     "execution_count": 38,
     "metadata": {},
     "output_type": "execute_result"
    }
   ],
   "source": [
    "# 1.1 Lire le Dataframe train (avec les champs Survived). Afficher les 10 premières lignes.\n",
    "\n",
    "train_clean = pd.read_csv(\"./dev/machineLearning/machineLearning/data/Module2/train_clean.csv\")\n",
    "\n",
    "train_clean.head(10)"
   ],
   "metadata": {
    "collapsed": false
   }
  },
  {
   "cell_type": "code",
   "execution_count": 60,
   "outputs": [
    {
     "data": {
      "text/plain": "   PassengerId  Pclass  Sex   Age     Fare  Embarked  IsAlone  Title\n0          892       3    1  34.5   7.8292         2        1      1\n1          893       3    0  47.0   7.0000         0        0      3\n2          894       2    1  62.0   9.6875         2        1      1\n3          895       3    1  27.0   8.6625         0        1      1\n4          896       3    0  22.0  12.2875         0        0      3\n5          897       3    1  14.0   9.2250         0        1      1\n6          898       3    0  30.0   7.6292         2        1      2\n7          899       2    1  26.0  29.0000         0        0      1\n8          900       3    0  18.0   7.2292         1        1      3\n9          901       3    1  21.0  24.1500         0        0      1",
      "text/html": "<div>\n<style scoped>\n    .dataframe tbody tr th:only-of-type {\n        vertical-align: middle;\n    }\n\n    .dataframe tbody tr th {\n        vertical-align: top;\n    }\n\n    .dataframe thead th {\n        text-align: right;\n    }\n</style>\n<table border=\"1\" class=\"dataframe\">\n  <thead>\n    <tr style=\"text-align: right;\">\n      <th></th>\n      <th>PassengerId</th>\n      <th>Pclass</th>\n      <th>Sex</th>\n      <th>Age</th>\n      <th>Fare</th>\n      <th>Embarked</th>\n      <th>IsAlone</th>\n      <th>Title</th>\n    </tr>\n  </thead>\n  <tbody>\n    <tr>\n      <th>0</th>\n      <td>892</td>\n      <td>3</td>\n      <td>1</td>\n      <td>34.5</td>\n      <td>7.8292</td>\n      <td>2</td>\n      <td>1</td>\n      <td>1</td>\n    </tr>\n    <tr>\n      <th>1</th>\n      <td>893</td>\n      <td>3</td>\n      <td>0</td>\n      <td>47.0</td>\n      <td>7.0000</td>\n      <td>0</td>\n      <td>0</td>\n      <td>3</td>\n    </tr>\n    <tr>\n      <th>2</th>\n      <td>894</td>\n      <td>2</td>\n      <td>1</td>\n      <td>62.0</td>\n      <td>9.6875</td>\n      <td>2</td>\n      <td>1</td>\n      <td>1</td>\n    </tr>\n    <tr>\n      <th>3</th>\n      <td>895</td>\n      <td>3</td>\n      <td>1</td>\n      <td>27.0</td>\n      <td>8.6625</td>\n      <td>0</td>\n      <td>1</td>\n      <td>1</td>\n    </tr>\n    <tr>\n      <th>4</th>\n      <td>896</td>\n      <td>3</td>\n      <td>0</td>\n      <td>22.0</td>\n      <td>12.2875</td>\n      <td>0</td>\n      <td>0</td>\n      <td>3</td>\n    </tr>\n    <tr>\n      <th>5</th>\n      <td>897</td>\n      <td>3</td>\n      <td>1</td>\n      <td>14.0</td>\n      <td>9.2250</td>\n      <td>0</td>\n      <td>1</td>\n      <td>1</td>\n    </tr>\n    <tr>\n      <th>6</th>\n      <td>898</td>\n      <td>3</td>\n      <td>0</td>\n      <td>30.0</td>\n      <td>7.6292</td>\n      <td>2</td>\n      <td>1</td>\n      <td>2</td>\n    </tr>\n    <tr>\n      <th>7</th>\n      <td>899</td>\n      <td>2</td>\n      <td>1</td>\n      <td>26.0</td>\n      <td>29.0000</td>\n      <td>0</td>\n      <td>0</td>\n      <td>1</td>\n    </tr>\n    <tr>\n      <th>8</th>\n      <td>900</td>\n      <td>3</td>\n      <td>0</td>\n      <td>18.0</td>\n      <td>7.2292</td>\n      <td>1</td>\n      <td>1</td>\n      <td>3</td>\n    </tr>\n    <tr>\n      <th>9</th>\n      <td>901</td>\n      <td>3</td>\n      <td>1</td>\n      <td>21.0</td>\n      <td>24.1500</td>\n      <td>0</td>\n      <td>0</td>\n      <td>1</td>\n    </tr>\n  </tbody>\n</table>\n</div>"
     },
     "execution_count": 60,
     "metadata": {},
     "output_type": "execute_result"
    }
   ],
   "source": [
    "# 1.2 Lire le Dataframe test (sans les champs Survived) dans les fichiers test_clean.csv. Afficher les 10 premières lignes.\n",
    "\n",
    "test_clean = pd.read_csv(\"./dev/machineLearning/machineLearning/data/Module2/test_clean.csv\")\n",
    "\n",
    "test_clean.head(10)"
   ],
   "metadata": {
    "collapsed": false
   }
  },
  {
   "cell_type": "code",
   "execution_count": 41,
   "outputs": [
    {
     "name": "stdout",
     "output_type": "stream",
     "text": [
      "<class 'numpy.ndarray'>\n",
      "[[ 3.      1.     22.      7.25    0.      0.      1.    ]\n",
      " [ 1.      0.     38.     71.2833  1.      0.      3.    ]\n",
      " [ 3.      0.     26.      7.925   0.      1.      2.    ]\n",
      " [ 1.      0.     35.     53.1     0.      0.      3.    ]\n",
      " [ 3.      1.     35.      8.05    0.      1.      1.    ]\n",
      " [ 3.      1.     41.      8.4583  2.      1.      1.    ]\n",
      " [ 1.      1.     54.     51.8625  0.      1.      1.    ]\n",
      " [ 3.      1.      2.     21.075   0.      0.      4.    ]\n",
      " [ 3.      0.     27.     11.1333  0.      0.      3.    ]\n",
      " [ 2.      0.     14.     30.0708  1.      0.      3.    ]]\n"
     ]
    }
   ],
   "source": [
    "# 1.3 Charger les features d'apprentissage dans un array numpy X_alltrain. Afficher le type de X_alltrain les 10 premières lignes.\n",
    "\n",
    "X_alltrain = train_clean.values[:,2:]\n",
    "\n",
    "print(type(X_alltrain))\n",
    "print(X_alltrain[:10])"
   ],
   "metadata": {
    "collapsed": false
   }
  },
  {
   "cell_type": "code",
   "execution_count": 56,
   "outputs": [
    {
     "name": "stdout",
     "output_type": "stream",
     "text": [
      "[[0.]\n",
      " [1.]\n",
      " [1.]\n",
      " [1.]\n",
      " [0.]\n",
      " [0.]\n",
      " [0.]\n",
      " [0.]\n",
      " [1.]\n",
      " [1.]]\n"
     ]
    }
   ],
   "source": [
    "# 1.4 Charger les labels dans un array numpy y_alltrain. Afficher les 10 premières lignes.\n",
    "\n",
    "Y_alltrain = train_clean.values[:,1]\n",
    "print(Y_alltrain[:10])"
   ],
   "metadata": {
    "collapsed": false
   }
  },
  {
   "cell_type": "code",
   "execution_count": 57,
   "outputs": [
    {
     "name": "stdout",
     "output_type": "stream",
     "text": [
      "Nombre de lignes x_train : 668\n",
      "Nombre de colonnes x_train : 7\n",
      "Nombre de lignes y_train : 668\n",
      "Nombre de colonne y_train : 1\n",
      "Nombre de lignes x_dev : 223\n",
      "Nombre de colonnes x_dev : 7\n",
      "Nombre de lignes y_dev : 223\n",
      "Nombre de colonne y_dev : 1\n"
     ]
    }
   ],
   "source": [
    "# 1.5 Séparer les features et les labels en deux parties (train et dev). Afficher les nombres de lignes et de colonnes pour les 4 arrays.\n",
    "\n",
    "X_train,X_dev,y_train,y_dev = train_test_split(X_alltrain, Y_alltrain, random_state=0)\n",
    "\n",
    "print('Nombre de lignes x_train :', X_train.shape[0])\n",
    "print('Nombre de colonnes x_train :', X_train.shape[1])\n",
    "\n",
    "print('Nombre de lignes y_train :', y_train.shape[0])\n",
    "print('Nombre de colonne y_train :', y_train.shape[1])\n",
    "\n",
    "print('Nombre de lignes x_dev :', X_dev.shape[0])\n",
    "print('Nombre de colonnes x_dev :', X_dev.shape[1])\n",
    "\n",
    "print('Nombre de lignes y_dev :', y_dev.shape[0])\n",
    "print('Nombre de colonne y_dev :', y_dev.shape[1])"
   ],
   "metadata": {
    "collapsed": false
   }
  },
  {
   "cell_type": "code",
   "execution_count": 58,
   "outputs": [
    {
     "name": "stdout",
     "output_type": "stream",
     "text": [
      "['Pclass', 'Sex', 'Age', 'Fare', 'Embarked', 'IsAlone', 'Title']\n"
     ]
    }
   ],
   "source": [
    "# 1.6 Afficher les noms des features.\n",
    "\n",
    "print(train_clean.columns[2:].tolist())"
   ],
   "metadata": {
    "collapsed": false
   }
  },
  {
   "cell_type": "code",
   "execution_count": 61,
   "outputs": [],
   "source": [
    "# Fonctions utilitaires\n",
    "\n",
    "# Fonctions permettant de générer le fichier d'envoi à Kaggle\n",
    "# Paramètres : Classifier; Données à calculer ; index)\n",
    "\n",
    "def generer_resultats(clf,df_test=test_clean):\n",
    "    \"\"\"\n",
    "    Fonctions permettant de générer le fichier d'envoi à Kaggle.\n",
    "    On passe un classifier sur lequel on refait le training avec toutes les données de training\n",
    "\n",
    "    Parameters\n",
    "    ----------\n",
    "    Classifiers : Classifier utilisé pour la prédiction\n",
    "    data : Données à calculer. par défaut, les valeurs du dataset \"test\"\n",
    "    idx : Index des passagers testés. Stockés dans finalfile_index lors de la lecture des données\n",
    "    \"\"\"\n",
    "    data = df_test.iloc[:,1:].values\n",
    "    idx = df_test.PassengerId\n",
    "    print(clf.get_params())\n",
    "    clf.fit(X_alltrain, Y_alltrain)\n",
    "    prediction=clf.predict(data)\n",
    "    results=pd.DataFrame(prediction.astype(int), index = df_test.PassengerId, columns=['Survived'])\n",
    "    results.to_csv('resultats%s.csv'%clf.__class__.__name__)\n",
    "\n",
    "#Fonction pour l'affichage 2 D des résultats\n",
    "\n",
    "def plot_decision_boundary(clf,X,y, axes=[0, 85, 0, 300], axis_name=['x1','x2'],alpha=0.5, contour=True):\n",
    "    \"\"\"\n",
    "    Fonction pour l'affichage 2 D des résultats\n",
    "\n",
    "    Parameters\n",
    "    ----------\n",
    "    clf : Classifier à afficher\n",
    "    X : features de Données a afficher\n",
    "    y : labels de Données a afficher\n",
    "    axes : : Tailles des axes (valeur min/max)\n",
    "    axis_name : Nom des axes sur le graphique\n",
    "    alpha : Transparence des points\n",
    "    contour : Afichage du contour\n",
    "    \"\"\"\n",
    "    x1s = np.linspace(axes[0], axes[1], 100)\n",
    "    x2s = np.linspace(axes[2], axes[3], 100)\n",
    "    x1, x2 = np.meshgrid(x1s, x2s)\n",
    "    X_new = np.c_[x1.ravel(), x2.ravel()]\n",
    "    y_pred = clf.predict(X_new).reshape(x1.shape)\n",
    "    custom_cmap = ListedColormap(['#fafab0','#9898ff','#a0faa0'])\n",
    "    plt.contourf(x1, x2, y_pred, alpha=0.3, cmap=custom_cmap)\n",
    "    if contour:\n",
    "        custom_cmap2 = ListedColormap(['#7d7d58','#4c4c7f','#507d50'])\n",
    "        plt.contour(x1, x2, y_pred, cmap=custom_cmap2, alpha=0.8)\n",
    "\n",
    "\n",
    "    df_X_y = pd.concat([pd.DataFrame(X,columns=['f1','f2']),pd.DataFrame(y,columns=['label'])],axis=1)\n",
    "    plt.plot(\n",
    "        df_X_y.loc[df_X_y.label==0,'f1'].values,\n",
    "        df_X_y.loc[df_X_y.label==0,'f2'].values,\n",
    "        \"ro\", label=\"Disparu\",\n",
    "        alpha=alpha\n",
    "    )\n",
    "    plt.plot(\n",
    "        df_X_y.loc[df_X_y.label==1,'f1'].values,\n",
    "        df_X_y.loc[df_X_y.label==1,'f2'].values,\n",
    "        \"gs\", label=\"Rescapé\",\n",
    "        alpha=alpha\n",
    "    )\n",
    "\n",
    "    plt.axis(axes)\n",
    "    plt.xlabel(axis_name[0], fontsize=18)\n",
    "    plt.ylabel(axis_name[1]+ \"  \",fontsize=18, rotation=0)\n",
    "    plt.legend(loc=\"lower right\", fontsize=14)\n"
   ],
   "metadata": {
    "collapsed": false
   }
  },
  {
   "cell_type": "code",
   "execution_count": null,
   "outputs": [],
   "source": [
    "# 2.1 En utilisant l'exemple 1, contruisez et entrainez un arbre de décision pour prévoir la survie.\n",
    "\n"
   ],
   "metadata": {
    "collapsed": false
   }
  },
  {
   "cell_type": "code",
   "execution_count": null,
   "outputs": [],
   "source": [
    "# 2.2 Appliquer le modèle sur vos données de dev"
   ],
   "metadata": {
    "collapsed": false
   }
  },
  {
   "cell_type": "code",
   "execution_count": null,
   "outputs": [],
   "source": [
    "# 2.3 : Essayez plusieurs valeurs pour max_depth et garder le meilleur résultat\n",
    "# Vous pouvez aussi tester d'autres paramètres disponible sur https://scikit-learn.org/stable/modules/generated/sklearn.tree.DecisionTreeClassifier.html?highlight=decisiontreeclassifier#sklearn.tree.DecisionTreeClassifier"
   ],
   "metadata": {
    "collapsed": false
   }
  },
  {
   "cell_type": "code",
   "execution_count": null,
   "outputs": [],
   "source": [
    "# 2.4 : Affichez l'arbre"
   ],
   "metadata": {
    "collapsed": false
   }
  },
  {
   "cell_type": "code",
   "execution_count": null,
   "outputs": [],
   "source": [
    "# 2.5 Générez le fichier de résultats et envoyer une soumission sur Kaggle"
   ],
   "metadata": {
    "collapsed": false
   }
  },
  {
   "cell_type": "code",
   "execution_count": null,
   "outputs": [],
   "source": [
    "# 2.6 Question : Quel est votre meilleur score et Classement ?"
   ],
   "metadata": {
    "collapsed": false
   }
  },
  {
   "cell_type": "code",
   "execution_count": null,
   "outputs": [],
   "source": [
    "# 3.1 En utilisant l'exemple 5, Réalisez un algorithme de Random Forest sur les données Titanic.\n"
   ],
   "metadata": {
    "collapsed": false
   }
  },
  {
   "cell_type": "code",
   "execution_count": null,
   "outputs": [],
   "source": [
    "# 3.2 Classez les features par ordre d'importance."
   ],
   "metadata": {
    "collapsed": false
   }
  },
  {
   "cell_type": "code",
   "execution_count": null,
   "outputs": [],
   "source": [
    "# 3.3 Tester dans une boucle différentes valeurs pour max_depth et max_features de l'arbre et pour le nombre d'estimateurs."
   ],
   "metadata": {
    "collapsed": false
   }
  },
  {
   "cell_type": "code",
   "execution_count": null,
   "outputs": [],
   "source": [
    "# 3.4 Générer un fichier et envoyer les résultats sur Kaggle. Ecrivez ici vos résultats."
   ],
   "metadata": {
    "collapsed": false
   }
  },
  {
   "cell_type": "code",
   "execution_count": null,
   "outputs": [],
   "source": [
    "# 3.5 En utilisant la fonction plot_decision_boundary, afficher les résultats pour de l'arbre seul et du modèle de forêt les variables Fare et Age Au moins 3 arguments sont attendus. clf : Classifier à afficher (Il doit être entraîné sur les 2 variables Fare et Age) X : features de Données a afficher y : labels de Données a afficher"
   ],
   "metadata": {
    "collapsed": false
   }
  },
  {
   "cell_type": "code",
   "execution_count": null,
   "outputs": [],
   "source": [
    "# 4.1 En vous inspirant de l'exemple 6, Testez ici Adaboost"
   ],
   "metadata": {
    "collapsed": false
   }
  },
  {
   "cell_type": "code",
   "execution_count": null,
   "outputs": [],
   "source": [
    "# 4.2 Afficher les résultats. Essayer differents paramètres de max depth, nombre d'estimateurs, taille des arbres ..."
   ],
   "metadata": {
    "collapsed": false
   }
  },
  {
   "cell_type": "code",
   "execution_count": null,
   "outputs": [],
   "source": [
    "# 4.3 Appliquer le \"Early Stopping\" sur le nombre d'estimateurs. Comparer avec le résultat sans Early Stopping.\n"
   ],
   "metadata": {
    "collapsed": false
   }
  },
  {
   "cell_type": "code",
   "execution_count": null,
   "outputs": [],
   "source": [
    "# 4.4 Générer un fichier et envoyer les résultats sur Kaggle. Ecrivez ici vos résultats.\n"
   ],
   "metadata": {
    "collapsed": false
   }
  },
  {
   "cell_type": "code",
   "execution_count": null,
   "outputs": [],
   "source": [
    "# 4.5 Relancer les modèles de Gradient Boosting avec et sans Early Stopping, en n'utilisant que les variables Age et Fare.\n",
    "\n"
   ],
   "metadata": {
    "collapsed": false
   }
  },
  {
   "cell_type": "code",
   "execution_count": null,
   "outputs": [],
   "source": [
    "# 4.6 Afficher les résultats avec et sans Early Stopping avec la fonction plot_decision_boundary\n"
   ],
   "metadata": {
    "collapsed": false
   }
  }
 ],
 "metadata": {
  "kernelspec": {
   "display_name": "Python 3",
   "language": "python",
   "name": "python3"
  },
  "language_info": {
   "codemirror_mode": {
    "name": "ipython",
    "version": 2
   },
   "file_extension": ".py",
   "mimetype": "text/x-python",
   "name": "python",
   "nbconvert_exporter": "python",
   "pygments_lexer": "ipython2",
   "version": "2.7.6"
  }
 },
 "nbformat": 4,
 "nbformat_minor": 0
}
