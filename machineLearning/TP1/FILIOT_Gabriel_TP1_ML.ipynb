{
 "cells": [
  {
   "cell_type": "code",
   "execution_count": 2,
   "metadata": {
    "collapsed": true
   },
   "outputs": [],
   "source": [
    "#Imports librairies de base\n",
    "import numpy as np\n",
    "import pandas as pd\n",
    "\n",
    "#Bibliothèques pour Cross validation\n",
    "\n",
    "#Affichage de Graphes\n",
    "from IPython.display import Markdown, display, HTML\n",
    "import matplotlib.pyplot as plt\n",
    "\n",
    "#Information Mutuelle\n",
    "from sklearn.feature_selection import mutual_info_regression"
   ]
  },
  {
   "cell_type": "code",
   "execution_count": 47,
   "outputs": [
    {
     "data": {
      "text/plain": "     PassengerId  Survived  Pclass  \\\n721          722         0       3   \n567          568         0       3   \n785          786         0       3   \n565          566         0       3   \n215          216         1       1   \n..           ...       ...     ...   \n642          643         0       3   \n776          777         0       3   \n566          567         0       3   \n766          767         0       1   \n634          635         0       3   \n\n                                            Name     Sex   Age  SibSp  Parch  \\\n721                    Jensen, Mr. Svend Lauritz    male  17.0      1      0   \n567  Palsson, Mrs. Nils (Alma Cornelia Berglund)  female  29.0      0      4   \n785           Harmer, Mr. Abraham (David Lishin)    male  25.0      0      0   \n565                         Davies, Mr. Alfred J    male  24.0      2      0   \n215                      Newell, Miss. Madeleine  female  31.0      1      0   \n..                                           ...     ...   ...    ...    ...   \n642                Skoog, Miss. Margit Elizabeth  female   2.0      3      2   \n776                             Tobin, Mr. Roger    male   NaN      0      0   \n566                         Stoytcheff, Mr. Ilia    male  19.0      0      0   \n766                    Brewe, Dr. Arthur Jackson    male   NaN      0      0   \n634                           Skoog, Miss. Mabel  female   9.0      3      2   \n\n        Ticket      Fare Cabin Embarked  \n721     350048    7.0542   NaN        S  \n567     349909   21.0750   NaN        S  \n785     374887    7.2500   NaN        S  \n565  A/4 48871   24.1500   NaN        S  \n215      35273  113.2750   D36        C  \n..         ...       ...   ...      ...  \n642     347088   27.9000   NaN        S  \n776     383121    7.7500   F38        Q  \n566     349205    7.8958   NaN        S  \n766     112379   39.6000   NaN        C  \n634     347088   27.9000   NaN        S  \n\n[100 rows x 12 columns]",
      "text/html": "<div>\n<style scoped>\n    .dataframe tbody tr th:only-of-type {\n        vertical-align: middle;\n    }\n\n    .dataframe tbody tr th {\n        vertical-align: top;\n    }\n\n    .dataframe thead th {\n        text-align: right;\n    }\n</style>\n<table border=\"1\" class=\"dataframe\">\n  <thead>\n    <tr style=\"text-align: right;\">\n      <th></th>\n      <th>PassengerId</th>\n      <th>Survived</th>\n      <th>Pclass</th>\n      <th>Name</th>\n      <th>Sex</th>\n      <th>Age</th>\n      <th>SibSp</th>\n      <th>Parch</th>\n      <th>Ticket</th>\n      <th>Fare</th>\n      <th>Cabin</th>\n      <th>Embarked</th>\n    </tr>\n  </thead>\n  <tbody>\n    <tr>\n      <th>721</th>\n      <td>722</td>\n      <td>0</td>\n      <td>3</td>\n      <td>Jensen, Mr. Svend Lauritz</td>\n      <td>male</td>\n      <td>17.0</td>\n      <td>1</td>\n      <td>0</td>\n      <td>350048</td>\n      <td>7.0542</td>\n      <td>NaN</td>\n      <td>S</td>\n    </tr>\n    <tr>\n      <th>567</th>\n      <td>568</td>\n      <td>0</td>\n      <td>3</td>\n      <td>Palsson, Mrs. Nils (Alma Cornelia Berglund)</td>\n      <td>female</td>\n      <td>29.0</td>\n      <td>0</td>\n      <td>4</td>\n      <td>349909</td>\n      <td>21.0750</td>\n      <td>NaN</td>\n      <td>S</td>\n    </tr>\n    <tr>\n      <th>785</th>\n      <td>786</td>\n      <td>0</td>\n      <td>3</td>\n      <td>Harmer, Mr. Abraham (David Lishin)</td>\n      <td>male</td>\n      <td>25.0</td>\n      <td>0</td>\n      <td>0</td>\n      <td>374887</td>\n      <td>7.2500</td>\n      <td>NaN</td>\n      <td>S</td>\n    </tr>\n    <tr>\n      <th>565</th>\n      <td>566</td>\n      <td>0</td>\n      <td>3</td>\n      <td>Davies, Mr. Alfred J</td>\n      <td>male</td>\n      <td>24.0</td>\n      <td>2</td>\n      <td>0</td>\n      <td>A/4 48871</td>\n      <td>24.1500</td>\n      <td>NaN</td>\n      <td>S</td>\n    </tr>\n    <tr>\n      <th>215</th>\n      <td>216</td>\n      <td>1</td>\n      <td>1</td>\n      <td>Newell, Miss. Madeleine</td>\n      <td>female</td>\n      <td>31.0</td>\n      <td>1</td>\n      <td>0</td>\n      <td>35273</td>\n      <td>113.2750</td>\n      <td>D36</td>\n      <td>C</td>\n    </tr>\n    <tr>\n      <th>...</th>\n      <td>...</td>\n      <td>...</td>\n      <td>...</td>\n      <td>...</td>\n      <td>...</td>\n      <td>...</td>\n      <td>...</td>\n      <td>...</td>\n      <td>...</td>\n      <td>...</td>\n      <td>...</td>\n      <td>...</td>\n    </tr>\n    <tr>\n      <th>642</th>\n      <td>643</td>\n      <td>0</td>\n      <td>3</td>\n      <td>Skoog, Miss. Margit Elizabeth</td>\n      <td>female</td>\n      <td>2.0</td>\n      <td>3</td>\n      <td>2</td>\n      <td>347088</td>\n      <td>27.9000</td>\n      <td>NaN</td>\n      <td>S</td>\n    </tr>\n    <tr>\n      <th>776</th>\n      <td>777</td>\n      <td>0</td>\n      <td>3</td>\n      <td>Tobin, Mr. Roger</td>\n      <td>male</td>\n      <td>NaN</td>\n      <td>0</td>\n      <td>0</td>\n      <td>383121</td>\n      <td>7.7500</td>\n      <td>F38</td>\n      <td>Q</td>\n    </tr>\n    <tr>\n      <th>566</th>\n      <td>567</td>\n      <td>0</td>\n      <td>3</td>\n      <td>Stoytcheff, Mr. Ilia</td>\n      <td>male</td>\n      <td>19.0</td>\n      <td>0</td>\n      <td>0</td>\n      <td>349205</td>\n      <td>7.8958</td>\n      <td>NaN</td>\n      <td>S</td>\n    </tr>\n    <tr>\n      <th>766</th>\n      <td>767</td>\n      <td>0</td>\n      <td>1</td>\n      <td>Brewe, Dr. Arthur Jackson</td>\n      <td>male</td>\n      <td>NaN</td>\n      <td>0</td>\n      <td>0</td>\n      <td>112379</td>\n      <td>39.6000</td>\n      <td>NaN</td>\n      <td>C</td>\n    </tr>\n    <tr>\n      <th>634</th>\n      <td>635</td>\n      <td>0</td>\n      <td>3</td>\n      <td>Skoog, Miss. Mabel</td>\n      <td>female</td>\n      <td>9.0</td>\n      <td>3</td>\n      <td>2</td>\n      <td>347088</td>\n      <td>27.9000</td>\n      <td>NaN</td>\n      <td>S</td>\n    </tr>\n  </tbody>\n</table>\n<p>100 rows × 12 columns</p>\n</div>"
     },
     "execution_count": 47,
     "metadata": {},
     "output_type": "execute_result"
    }
   ],
   "source": [
    "# 1.1 Charger les données d'apprentissage (Data/passagers.csv) dans un DataFrame nommé train. Afficher 10 exemples.\n",
    "\n",
    "train = pd.read_csv(\"./dev/machineLearning/machineLearning/data/passagers.csv\")\n",
    "\n",
    "train.sample(10)"
   ],
   "metadata": {
    "collapsed": false
   }
  },
  {
   "cell_type": "code",
   "execution_count": 10,
   "outputs": [
    {
     "data": {
      "text/plain": "     PassengerId  Pclass                                               Name  \\\n15           907       2      del Carlo, Mrs. Sebastiano (Argenia Genovesi)   \n323         1215       1                                 Rowe, Mr. Alfred G   \n107          999       3                                   Ryan, Mr. Edward   \n291         1183       3             Daly, Miss. Margaret Marcella Maggie\"\"   \n65           957       2  Corey, Mrs. Percy C (Mary Phyllis Elizabeth Mi...   \n7            899       2                       Caldwell, Mr. Albert Francis   \n73           965       1                    Ovies y Rodriguez, Mr. Servando   \n132         1024       3                      Lefebre, Mrs. Frank (Frances)   \n318         1210       3                          Jonsson, Mr. Nils Hilding   \n350         1242       1       Greenfield, Mrs. Leo David (Blanche Strouse)   \n\n        Sex   Age  SibSp  Parch         Ticket     Fare    Cabin Embarked  \n15   female  24.0      1      0  SC/PARIS 2167  27.7208      NaN        C  \n323    male  33.0      0      0         113790  26.5500      NaN        S  \n107    male   NaN      0      0         383162   7.7500      NaN        Q  \n291  female  30.0      0      0         382650   6.9500      NaN        Q  \n65   female   NaN      0      0   F.C.C. 13534  21.0000      NaN        S  \n7      male  26.0      1      1         248738  29.0000      NaN        S  \n73     male  28.5      0      0       PC 17562  27.7208      D43        C  \n132  female   NaN      0      4           4133  25.4667      NaN        S  \n318    male  27.0      0      0         350408   7.8542      NaN        S  \n350  female  45.0      0      1       PC 17759  63.3583  D10 D12        C  ",
      "text/html": "<div>\n<style scoped>\n    .dataframe tbody tr th:only-of-type {\n        vertical-align: middle;\n    }\n\n    .dataframe tbody tr th {\n        vertical-align: top;\n    }\n\n    .dataframe thead th {\n        text-align: right;\n    }\n</style>\n<table border=\"1\" class=\"dataframe\">\n  <thead>\n    <tr style=\"text-align: right;\">\n      <th></th>\n      <th>PassengerId</th>\n      <th>Pclass</th>\n      <th>Name</th>\n      <th>Sex</th>\n      <th>Age</th>\n      <th>SibSp</th>\n      <th>Parch</th>\n      <th>Ticket</th>\n      <th>Fare</th>\n      <th>Cabin</th>\n      <th>Embarked</th>\n    </tr>\n  </thead>\n  <tbody>\n    <tr>\n      <th>15</th>\n      <td>907</td>\n      <td>2</td>\n      <td>del Carlo, Mrs. Sebastiano (Argenia Genovesi)</td>\n      <td>female</td>\n      <td>24.0</td>\n      <td>1</td>\n      <td>0</td>\n      <td>SC/PARIS 2167</td>\n      <td>27.7208</td>\n      <td>NaN</td>\n      <td>C</td>\n    </tr>\n    <tr>\n      <th>323</th>\n      <td>1215</td>\n      <td>1</td>\n      <td>Rowe, Mr. Alfred G</td>\n      <td>male</td>\n      <td>33.0</td>\n      <td>0</td>\n      <td>0</td>\n      <td>113790</td>\n      <td>26.5500</td>\n      <td>NaN</td>\n      <td>S</td>\n    </tr>\n    <tr>\n      <th>107</th>\n      <td>999</td>\n      <td>3</td>\n      <td>Ryan, Mr. Edward</td>\n      <td>male</td>\n      <td>NaN</td>\n      <td>0</td>\n      <td>0</td>\n      <td>383162</td>\n      <td>7.7500</td>\n      <td>NaN</td>\n      <td>Q</td>\n    </tr>\n    <tr>\n      <th>291</th>\n      <td>1183</td>\n      <td>3</td>\n      <td>Daly, Miss. Margaret Marcella Maggie\"\"</td>\n      <td>female</td>\n      <td>30.0</td>\n      <td>0</td>\n      <td>0</td>\n      <td>382650</td>\n      <td>6.9500</td>\n      <td>NaN</td>\n      <td>Q</td>\n    </tr>\n    <tr>\n      <th>65</th>\n      <td>957</td>\n      <td>2</td>\n      <td>Corey, Mrs. Percy C (Mary Phyllis Elizabeth Mi...</td>\n      <td>female</td>\n      <td>NaN</td>\n      <td>0</td>\n      <td>0</td>\n      <td>F.C.C. 13534</td>\n      <td>21.0000</td>\n      <td>NaN</td>\n      <td>S</td>\n    </tr>\n    <tr>\n      <th>7</th>\n      <td>899</td>\n      <td>2</td>\n      <td>Caldwell, Mr. Albert Francis</td>\n      <td>male</td>\n      <td>26.0</td>\n      <td>1</td>\n      <td>1</td>\n      <td>248738</td>\n      <td>29.0000</td>\n      <td>NaN</td>\n      <td>S</td>\n    </tr>\n    <tr>\n      <th>73</th>\n      <td>965</td>\n      <td>1</td>\n      <td>Ovies y Rodriguez, Mr. Servando</td>\n      <td>male</td>\n      <td>28.5</td>\n      <td>0</td>\n      <td>0</td>\n      <td>PC 17562</td>\n      <td>27.7208</td>\n      <td>D43</td>\n      <td>C</td>\n    </tr>\n    <tr>\n      <th>132</th>\n      <td>1024</td>\n      <td>3</td>\n      <td>Lefebre, Mrs. Frank (Frances)</td>\n      <td>female</td>\n      <td>NaN</td>\n      <td>0</td>\n      <td>4</td>\n      <td>4133</td>\n      <td>25.4667</td>\n      <td>NaN</td>\n      <td>S</td>\n    </tr>\n    <tr>\n      <th>318</th>\n      <td>1210</td>\n      <td>3</td>\n      <td>Jonsson, Mr. Nils Hilding</td>\n      <td>male</td>\n      <td>27.0</td>\n      <td>0</td>\n      <td>0</td>\n      <td>350408</td>\n      <td>7.8542</td>\n      <td>NaN</td>\n      <td>S</td>\n    </tr>\n    <tr>\n      <th>350</th>\n      <td>1242</td>\n      <td>1</td>\n      <td>Greenfield, Mrs. Leo David (Blanche Strouse)</td>\n      <td>female</td>\n      <td>45.0</td>\n      <td>0</td>\n      <td>1</td>\n      <td>PC 17759</td>\n      <td>63.3583</td>\n      <td>D10 D12</td>\n      <td>C</td>\n    </tr>\n  </tbody>\n</table>\n</div>"
     },
     "execution_count": 10,
     "metadata": {},
     "output_type": "execute_result"
    }
   ],
   "source": [
    "# 1.2 Charger les données d'apprentissage (Data/test.csv) dans un Dataframe nommé test. Afficher 10 exemples.\n",
    "\n",
    "test = pd.read_csv('./dev/machineLearning/machineLearning/data/test.csv')\n",
    "\n",
    "test.sample(10)"
   ],
   "metadata": {
    "collapsed": false
   }
  },
  {
   "cell_type": "code",
   "execution_count": 11,
   "outputs": [
    {
     "name": "stdout",
     "output_type": "stream",
     "text": [
      "<class 'pandas.core.frame.DataFrame'>\n",
      "RangeIndex: 891 entries, 0 to 890\n",
      "Data columns (total 12 columns):\n",
      " #   Column       Non-Null Count  Dtype  \n",
      "---  ------       --------------  -----  \n",
      " 0   PassengerId  891 non-null    int64  \n",
      " 1   Survived     891 non-null    int64  \n",
      " 2   Pclass       891 non-null    int64  \n",
      " 3   Name         891 non-null    object \n",
      " 4   Sex          891 non-null    object \n",
      " 5   Age          714 non-null    float64\n",
      " 6   SibSp        891 non-null    int64  \n",
      " 7   Parch        891 non-null    int64  \n",
      " 8   Ticket       891 non-null    object \n",
      " 9   Fare         891 non-null    float64\n",
      " 10  Cabin        204 non-null    object \n",
      " 11  Embarked     889 non-null    object \n",
      "dtypes: float64(2), int64(5), object(5)\n",
      "memory usage: 83.7+ KB\n",
      "<class 'pandas.core.frame.DataFrame'>\n",
      "RangeIndex: 418 entries, 0 to 417\n",
      "Data columns (total 11 columns):\n",
      " #   Column       Non-Null Count  Dtype  \n",
      "---  ------       --------------  -----  \n",
      " 0   PassengerId  418 non-null    int64  \n",
      " 1   Pclass       418 non-null    int64  \n",
      " 2   Name         418 non-null    object \n",
      " 3   Sex          418 non-null    object \n",
      " 4   Age          332 non-null    float64\n",
      " 5   SibSp        418 non-null    int64  \n",
      " 6   Parch        418 non-null    int64  \n",
      " 7   Ticket       418 non-null    object \n",
      " 8   Fare         417 non-null    float64\n",
      " 9   Cabin        91 non-null     object \n",
      " 10  Embarked     418 non-null    object \n",
      "dtypes: float64(2), int64(4), object(5)\n",
      "memory usage: 36.0+ KB\n"
     ]
    }
   ],
   "source": [
    "# 1.3 Afficher les informations des deux DataFrames train et Test.\n",
    "\n",
    "train.info()\n",
    "\n",
    "test.info()"
   ],
   "metadata": {
    "collapsed": false
   }
  },
  {
   "cell_type": "code",
   "execution_count": 25,
   "outputs": [
    {
     "name": "stdout",
     "output_type": "stream",
     "text": [
      "38.38 de pourcentage de survie.\n"
     ]
    }
   ],
   "source": [
    "# 1.4 Calculer le taux global de survie\n",
    "\n",
    "survived = train['Survived'].mean() * 100\n",
    "\n",
    "print(round(survived, 2), \"de pourcentage de survie.\")\n"
   ],
   "metadata": {
    "collapsed": false
   }
  },
  {
   "cell_type": "code",
   "execution_count": null,
   "outputs": [],
   "source": [
    "# Question 1 : Quel travail voyez-vous pour que les données soient prêtes à faire tourner dans un modèle ?\n",
    "# Retravailler les données afin de ne plus afficher des \"Nan\" dans les colonnes.\n",
    "\n",
    "# Question 2 : Quelle différence y a-t-il entre les données train et les données test ?\n",
    "# Il n'y a pas de colonne de survie dans les données test.\n",
    "\n",
    "# Question 3 : Quel est le rôle de ces deux sets de données ?\n"
   ],
   "metadata": {
    "collapsed": false
   }
  },
  {
   "cell_type": "code",
   "execution_count": 29,
   "outputs": [
    {
     "name": "stdout",
     "output_type": "stream",
     "text": [
      "Pclass\n",
      "1    62.962963\n",
      "2    47.282609\n",
      "3    24.236253\n",
      "Name: Survived, dtype: float64\n"
     ]
    }
   ],
   "source": [
    "# 2.1 Analyser l'effet de la variable Classe sur le taux de survie, en affichant le % de survie par classe\n",
    "\n",
    "survived_byclass = train.groupby(['Pclass'])['Survived'].mean() * 100\n",
    "\n",
    "print(survived_byclass)"
   ],
   "metadata": {
    "collapsed": false
   }
  },
  {
   "cell_type": "code",
   "execution_count": 31,
   "outputs": [
    {
     "name": "stdout",
     "output_type": "stream",
     "text": [
      "Sex\n",
      "female    74.203822\n",
      "male      18.890815\n",
      "Name: Survived, dtype: float64\n"
     ]
    }
   ],
   "source": [
    "# 2.2 Analyser l'effet de la variable Genre (Sex) sur le taux de survie, en affichant le % de survie par genre\n",
    "\n",
    "survived_bysex = train.groupby(['Sex'])['Survived'].mean() * 100\n",
    "\n",
    "print(survived_bysex)\n"
   ],
   "metadata": {
    "collapsed": false
   }
  },
  {
   "cell_type": "code",
   "execution_count": 37,
   "outputs": [
    {
     "name": "stdout",
     "output_type": "stream",
     "text": [
      "     PassengerId                              Name   Age     Sex  FamilySize\n",
      "26            27           Emir, Mr. Farred Chehab   NaN    male           1\n",
      "465          466   Goncalves, Mr. Manuel Estanslas  38.0    male           1\n",
      "875          876  Najib, Miss. Adele Kiamie \"Jane\"  15.0  female           1\n",
      "668          669                   Cook, Mr. Jacob  43.0    male           1\n",
      "527          528                Farthing, Mr. John   NaN    male           1\n",
      "823          824                Moor, Mrs. (Beila)  27.0  female           2\n",
      "88            89        Fortune, Miss. Mabel Helen  23.0  female           6\n",
      "205          206        Strom, Miss. Telma Matilda   2.0  female           2\n",
      "147          148  Ford, Miss. Robina Maggie \"Ruby\"   9.0  female           5\n",
      "331          332               Partner, Mr. Austen  45.5    male           1\n"
     ]
    }
   ],
   "source": [
    "# 2.3 Calculer une nouvelle colonne FamilySize contenant la taille de la famille, pour les DataFrame train et Test.\n",
    "# Afficher pour 10 exemples l'Id du passager, le nom, l'age, le sexe et la taille de la famille.\n",
    "\n",
    "def size_family(row):\n",
    "    return row['SibSp'] + row['Parch'] + 1\n",
    "\n",
    "train['FamilySize'] = train.apply(size_family, axis=1)\n",
    "test['FamilySize'] = test.apply(size_family, axis=1)\n",
    "print(train[['PassengerId', 'Name', 'Age', 'Sex', 'FamilySize']].sample(10))"
   ],
   "metadata": {
    "collapsed": false
   }
  },
  {
   "cell_type": "code",
   "execution_count": 39,
   "outputs": [
    {
     "name": "stdout",
     "output_type": "stream",
     "text": [
      "FamilySize\n",
      "1     30.35\n",
      "2     55.28\n",
      "3     57.84\n",
      "4     72.41\n",
      "5     20.00\n",
      "6     13.64\n",
      "7     33.33\n",
      "8      0.00\n",
      "11     0.00\n",
      "Name: Survived, dtype: float64\n"
     ]
    }
   ],
   "source": [
    "# 2.4 Visualisez le nombre de personnes et le taux de survie par taille de famille.\n",
    "\n",
    "survived_byfamilysize= round(train.groupby(['FamilySize'])['Survived'].mean() * 100, 2)\n",
    "\n",
    "print(survived_byfamilysize)"
   ],
   "metadata": {
    "collapsed": false
   }
  },
  {
   "cell_type": "code",
   "execution_count": 42,
   "outputs": [
    {
     "name": "stdout",
     "output_type": "stream",
     "text": [
      "     PassengerId                                             Name   Age  \\\n",
      "285          286                              Stankovic, Mr. Ivan  33.0   \n",
      "564          565                   Meanwell, Miss. (Marion Ogden)   NaN   \n",
      "471          472                                  Cacic, Mr. Luka  38.0   \n",
      "226          227                        Mellors, Mr. William John  19.0   \n",
      "121          122                       Moore, Mr. Leonard Charles   NaN   \n",
      "199          200           Yrois, Miss. Henriette (\"Mrs Harbeck\")  24.0   \n",
      "81            82                      Sheerlinck, Mr. Jan Baptist  29.0   \n",
      "144          145                       Andrew, Mr. Edgardo Samuel  18.0   \n",
      "385          386                        Davies, Mr. Charles Henry  18.0   \n",
      "192          193  Andersen-Jensen, Miss. Carla Christine Nielsine  19.0   \n",
      "\n",
      "        Sex  isAlone  FamilySize  \n",
      "285    male        1           1  \n",
      "564  female        1           1  \n",
      "471    male        1           1  \n",
      "226    male        1           1  \n",
      "121    male        1           1  \n",
      "199  female        1           1  \n",
      "81     male        1           1  \n",
      "144    male        1           1  \n",
      "385    male        1           1  \n",
      "192  female        0           2  \n"
     ]
    }
   ],
   "source": [
    "# 2.5 Calculer une nouvelle colonne IsAlone indiquant si le passager est seul ou pas, pour les DataFrame train et Test. Afficher pour 10 exemples l'Id du passager, le nom, l'age, le sexe et le status IsAlone.\n",
    "\n",
    "def is_alone(row):\n",
    "    if row['FamilySize'] == 1 :\n",
    "        return 1\n",
    "    else :\n",
    "        return 0\n",
    "\n",
    "train['isAlone'] = train.apply(is_alone, axis=1)\n",
    "test['isAlone'] = test.apply(is_alone, axis=1)\n",
    "\n",
    "print(train[['PassengerId', 'Name', 'Age', 'Sex', 'isAlone', 'FamilySize']].sample(10))"
   ],
   "metadata": {
    "collapsed": false
   }
  },
  {
   "cell_type": "code",
   "execution_count": 43,
   "outputs": [
    {
     "name": "stdout",
     "output_type": "stream",
     "text": [
      "isAlone\n",
      "0    50.56\n",
      "1    30.35\n",
      "Name: Survived, dtype: float64\n"
     ]
    }
   ],
   "source": [
    "# 2.6 Visualisez le nombre de personnes et le taux de survie par statut seul ou pas.\n",
    "\n",
    "survived_aloneOrNot = round(train.groupby(['isAlone'])['Survived'].mean() * 100, 2)\n",
    "\n",
    "print(survived_aloneOrNot)"
   ],
   "metadata": {
    "collapsed": false
   }
  },
  {
   "cell_type": "code",
   "execution_count": null,
   "outputs": [],
   "source": [
    "# 2.7 Calculer l'information mutuelle sur les données train.\n",
    "# Attention : Il y a des données continues et des données discrètes\n",
    "# Ignorer les colonnes Name, Ticket et Cabin\n",
    "\n"
   ],
   "metadata": {
    "collapsed": false
   }
  },
  {
   "cell_type": "code",
   "execution_count": null,
   "outputs": [],
   "source": [
    "# 2.8 Afficher dans un graphique les scores d'information mutuelle par feature\n"
   ],
   "metadata": {
    "collapsed": false
   }
  },
  {
   "cell_type": "code",
   "execution_count": null,
   "outputs": [],
   "source": [
    "# Question 1 : La variable Classe est-elle utile pour prévoir la survie ? Pourquoi ?\n",
    "\n",
    "# Question 2 : Même question pour la variable Sex\n",
    "\n",
    "# Question 3 : Comment traiter les variables liées à la famille du passager ?"
   ],
   "metadata": {
    "collapsed": false
   }
  },
  {
   "cell_type": "code",
   "execution_count": 44,
   "outputs": [
    {
     "name": "stdout",
     "output_type": "stream",
     "text": [
      "     PassengerId                                               Name   Age  \\\n",
      "154          155                              Olsen, Mr. Ole Martin   NaN   \n",
      "666          667                        Butler, Mr. Reginald Fenton  25.0   \n",
      "338          339                              Dahl, Mr. Karl Edwart  45.0   \n",
      "774          775              Hocking, Mrs. Elizabeth (Eliza Needs)  54.0   \n",
      "518          519  Angle, Mrs. William A (Florence \"Mary\" Agnes H...  36.0   \n",
      "177          178                         Isham, Miss. Ann Elizabeth  50.0   \n",
      "144          145                         Andrew, Mr. Edgardo Samuel  18.0   \n",
      "761          762                     Nirva, Mr. Iisakki Antino Aijo  41.0   \n",
      "343          344         Sedgwick, Mr. Charles Frederick Waddington  25.0   \n",
      "279          280                   Abbott, Mrs. Stanton (Rosa Hunt)  35.0   \n",
      "\n",
      "        Sex Embarked  \n",
      "154    male        S  \n",
      "666    male        S  \n",
      "338    male        S  \n",
      "774  female        S  \n",
      "518  female        S  \n",
      "177  female        C  \n",
      "144    male        S  \n",
      "761    male        S  \n",
      "343    male        S  \n",
      "279  female        S  \n"
     ]
    }
   ],
   "source": [
    "# 3.1 La variable \"Embarked\" possède des valeurs nulles, compléter par la valeur majoritaire (S).\n",
    "\n",
    "train['Embarked'].fillna('S', inplace=True)\n",
    "test['Embarked'].fillna('S', inplace=True)\n",
    "\n",
    "print(train[['PassengerId', 'Name', 'Age', 'Sex', 'Embarked']].sample(10))"
   ],
   "metadata": {
    "collapsed": false
   }
  },
  {
   "cell_type": "code",
   "execution_count": 45,
   "outputs": [
    {
     "name": "stdout",
     "output_type": "stream",
     "text": [
      "Embarked\n",
      "C    55.36\n",
      "Q    38.96\n",
      "S    33.70\n",
      "Name: Survived, dtype: float64\n"
     ]
    }
   ],
   "source": [
    "# 3.2 Afficher l'influence du port d'embarquement sur la Survie\n",
    "\n",
    "survived_embarked = round(train.groupby(['Embarked'])['Survived'].mean() * 100, 2)\n",
    "\n",
    "print(survived_embarked)"
   ],
   "metadata": {
    "collapsed": false
   }
  },
  {
   "cell_type": "code",
   "execution_count": null,
   "outputs": [],
   "source": [
    "# 3.3 La variable \"Fare\" (prix du ticket) possède des valeurs manquantes. Remplacer ces valeurs par la valeur médiane.\n",
    "\n",
    "train['Fare'].fillna(train['Fare'].median(), inplace=True)\n",
    "test['Fare'].fillna(test['Fare'].median(), inplace=True)\n",
    "\n",
    "print(train[['PassengerId', 'Name', 'Age', 'Sex', 'Fare']].sample(10))"
   ],
   "metadata": {
    "collapsed": false
   }
  },
  {
   "cell_type": "code",
   "execution_count": null,
   "outputs": [],
   "source": [
    "# 3.4 Créer une variable CategoricalFare Découpant la valeur de ticket en 4 catégories de tailles à peu près égales.\n",
    "\n"
   ],
   "metadata": {
    "collapsed": false
   }
  },
  {
   "cell_type": "code",
   "execution_count": null,
   "outputs": [],
   "source": [
    "# 3.5 Analyser l'effet de ces catégories de prix de ticket sur la survie."
   ],
   "metadata": {
    "collapsed": false
   }
  },
  {
   "cell_type": "code",
   "execution_count": null,
   "outputs": [],
   "source": [
    "# 3.6 Combien de valeurs d'Age manquent ? Complète par des valeurs entières aléatoires entre (moyenne - écart type) et (moyenne + écart type).\n"
   ],
   "metadata": {
    "collapsed": false
   }
  },
  {
   "cell_type": "code",
   "execution_count": null,
   "outputs": [],
   "source": [
    "# 3.7 Créer une variable CategoricalAge Découpant la valeur d'age en 5 catégories égales.\n"
   ],
   "metadata": {
    "collapsed": false
   }
  },
  {
   "cell_type": "code",
   "execution_count": null,
   "outputs": [],
   "source": [
    "# 3.8 Analyser l'effet de ces catégories d'age sur la survie."
   ],
   "metadata": {
    "collapsed": false
   }
  },
  {
   "cell_type": "code",
   "execution_count": null,
   "outputs": [],
   "source": [
    "# Question 1 : Classer les variables par ordre d'intérêt"
   ],
   "metadata": {
    "collapsed": false
   }
  },
  {
   "cell_type": "code",
   "execution_count": null,
   "outputs": [],
   "source": [
    "# 4.1 : Le nom permet de retrouver le titre du passager. Trouver les titres lorsqu'ils existent."
   ],
   "metadata": {
    "collapsed": false
   }
  },
  {
   "cell_type": "code",
   "execution_count": null,
   "outputs": [],
   "source": [
    "# 4.2 : En utilisant la fonction pandas crosstab, afficher pour train le nombre d'occurrences par titres (en ligne) et par sexe (en colonne)\n"
   ],
   "metadata": {
    "collapsed": false
   }
  },
  {
   "cell_type": "code",
   "execution_count": null,
   "outputs": [],
   "source": [
    "#4.3 : Remplacer 'Melle et 'Ms' par 'Miss'\n",
    "#      Remplacer 'Mme' par 'Mrs'\n",
    "# Créer une valeur \"Rare\" pour les autres titres avec moins de 10 occurrences.\n",
    "# Calculer ensuite le taux de survie par titre\n"
   ],
   "metadata": {
    "collapsed": false
   }
  },
  {
   "cell_type": "code",
   "execution_count": null,
   "outputs": [],
   "source": [
    "# 5.2 : Attribuer une valeur pour les possibilités de la variable \"Title\" ('Master','Miss','Mr','Mrs','Rare'). (Question optionnel 4 nécessaires)"
   ],
   "metadata": {
    "collapsed": false
   }
  },
  {
   "cell_type": "code",
   "execution_count": null,
   "outputs": [],
   "source": [
    "# 5.3 Remplacer les titres manquant par 0, et attribuer à la colonne le type entier. (Question optionnelle 4 nécessaires)\n"
   ],
   "metadata": {
    "collapsed": false
   }
  },
  {
   "cell_type": "code",
   "execution_count": null,
   "outputs": [],
   "source": [
    "# 5.4 Attribuer une valeur numérique aux 4 catégories de la variable Fare (question 3.6)"
   ],
   "metadata": {
    "collapsed": false
   }
  },
  {
   "cell_type": "code",
   "execution_count": null,
   "outputs": [],
   "source": [
    "# 5.5 Attribuer une valeur numérique au Port d'embarquement (Embarked)"
   ],
   "metadata": {
    "collapsed": false
   }
  },
  {
   "cell_type": "code",
   "execution_count": null,
   "outputs": [],
   "source": [
    "# 5.6 Supprimer les features inutiles\n"
   ],
   "metadata": {
    "collapsed": false
   }
  },
  {
   "cell_type": "code",
   "execution_count": null,
   "outputs": [],
   "source": [
    "# 5.7 Afficher les infos pour les deux datasets\n"
   ],
   "metadata": {
    "collapsed": false
   }
  },
  {
   "cell_type": "code",
   "execution_count": null,
   "outputs": [],
   "source": [
    "# 5.8 Sauver les deux datasets dans des fichiers csv. Éviter d'écrire un index (n° de ligne)\n"
   ],
   "metadata": {
    "collapsed": false
   }
  },
  {
   "cell_type": "code",
   "execution_count": null,
   "outputs": [],
   "source": [
    "# Question : Sur combien de questions avez-vous utilisé les conseils ?\n"
   ],
   "metadata": {
    "collapsed": false
   }
  }
 ],
 "metadata": {
  "kernelspec": {
   "display_name": "Python 3",
   "language": "python",
   "name": "python3"
  },
  "language_info": {
   "codemirror_mode": {
    "name": "ipython",
    "version": 2
   },
   "file_extension": ".py",
   "mimetype": "text/x-python",
   "name": "python",
   "nbconvert_exporter": "python",
   "pygments_lexer": "ipython2",
   "version": "2.7.6"
  }
 },
 "nbformat": 4,
 "nbformat_minor": 0
}
