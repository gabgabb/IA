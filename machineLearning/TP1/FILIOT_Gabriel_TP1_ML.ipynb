{
 "cells": [
  {
   "cell_type": "code",
   "execution_count": 8,
   "metadata": {
    "collapsed": true
   },
   "outputs": [],
   "source": [
    "#Imports librairies de base\n",
    "import numpy as np\n",
    "import pandas as pd\n",
    "\n",
    "#Bibliothèques pour Cross validation\n",
    "\n",
    "#Affichage de Graphes\n",
    "from IPython.display import Markdown, display, HTML\n",
    "import matplotlib.pyplot as plt\n",
    "\n",
    "#Information Mutuelle\n",
    "from sklearn.feature_selection import mutual_info_regression"
   ]
  },
  {
   "cell_type": "code",
   "execution_count": 9,
   "outputs": [
    {
     "data": {
      "text/plain": "     PassengerId  Survived  Pclass                             Name     Sex  \\\n748          749         0       1        Marvin, Mr. Daniel Warner    male   \n619          620         0       2              Gavey, Mr. Lawrence    male   \n653          654         1       3    O'Leary, Miss. Hanora \"Norah\"  female   \n103          104         0       3       Johansson, Mr. Gustaf Joel    male   \n708          709         1       1             Cleaver, Miss. Alice  female   \n649          650         1       3  Stanley, Miss. Amy Zillah Elsie  female   \n124          125         0       1      White, Mr. Percival Wayland    male   \n212          213         0       3           Perkin, Mr. John Henry    male   \n464          465         0       3               Maisner, Mr. Simon    male   \n422          423         0       3               Zimmerman, Mr. Leo    male   \n\n      Age  SibSp  Parch     Ticket      Fare Cabin Embarked  \n748  19.0      1      0     113773   53.1000   D30        S  \n619  26.0      0      0      31028   10.5000   NaN        S  \n653   NaN      0      0     330919    7.8292   NaN        Q  \n103  33.0      0      0       7540    8.6542   NaN        S  \n708  22.0      0      0     113781  151.5500   NaN        S  \n649  23.0      0      0   CA. 2314    7.5500   NaN        S  \n124  54.0      0      1      35281   77.2875   D26        S  \n212  22.0      0      0  A/5 21174    7.2500   NaN        S  \n464   NaN      0      0   A/S 2816    8.0500   NaN        S  \n422  29.0      0      0     315082    7.8750   NaN        S  ",
      "text/html": "<div>\n<style scoped>\n    .dataframe tbody tr th:only-of-type {\n        vertical-align: middle;\n    }\n\n    .dataframe tbody tr th {\n        vertical-align: top;\n    }\n\n    .dataframe thead th {\n        text-align: right;\n    }\n</style>\n<table border=\"1\" class=\"dataframe\">\n  <thead>\n    <tr style=\"text-align: right;\">\n      <th></th>\n      <th>PassengerId</th>\n      <th>Survived</th>\n      <th>Pclass</th>\n      <th>Name</th>\n      <th>Sex</th>\n      <th>Age</th>\n      <th>SibSp</th>\n      <th>Parch</th>\n      <th>Ticket</th>\n      <th>Fare</th>\n      <th>Cabin</th>\n      <th>Embarked</th>\n    </tr>\n  </thead>\n  <tbody>\n    <tr>\n      <th>748</th>\n      <td>749</td>\n      <td>0</td>\n      <td>1</td>\n      <td>Marvin, Mr. Daniel Warner</td>\n      <td>male</td>\n      <td>19.0</td>\n      <td>1</td>\n      <td>0</td>\n      <td>113773</td>\n      <td>53.1000</td>\n      <td>D30</td>\n      <td>S</td>\n    </tr>\n    <tr>\n      <th>619</th>\n      <td>620</td>\n      <td>0</td>\n      <td>2</td>\n      <td>Gavey, Mr. Lawrence</td>\n      <td>male</td>\n      <td>26.0</td>\n      <td>0</td>\n      <td>0</td>\n      <td>31028</td>\n      <td>10.5000</td>\n      <td>NaN</td>\n      <td>S</td>\n    </tr>\n    <tr>\n      <th>653</th>\n      <td>654</td>\n      <td>1</td>\n      <td>3</td>\n      <td>O'Leary, Miss. Hanora \"Norah\"</td>\n      <td>female</td>\n      <td>NaN</td>\n      <td>0</td>\n      <td>0</td>\n      <td>330919</td>\n      <td>7.8292</td>\n      <td>NaN</td>\n      <td>Q</td>\n    </tr>\n    <tr>\n      <th>103</th>\n      <td>104</td>\n      <td>0</td>\n      <td>3</td>\n      <td>Johansson, Mr. Gustaf Joel</td>\n      <td>male</td>\n      <td>33.0</td>\n      <td>0</td>\n      <td>0</td>\n      <td>7540</td>\n      <td>8.6542</td>\n      <td>NaN</td>\n      <td>S</td>\n    </tr>\n    <tr>\n      <th>708</th>\n      <td>709</td>\n      <td>1</td>\n      <td>1</td>\n      <td>Cleaver, Miss. Alice</td>\n      <td>female</td>\n      <td>22.0</td>\n      <td>0</td>\n      <td>0</td>\n      <td>113781</td>\n      <td>151.5500</td>\n      <td>NaN</td>\n      <td>S</td>\n    </tr>\n    <tr>\n      <th>649</th>\n      <td>650</td>\n      <td>1</td>\n      <td>3</td>\n      <td>Stanley, Miss. Amy Zillah Elsie</td>\n      <td>female</td>\n      <td>23.0</td>\n      <td>0</td>\n      <td>0</td>\n      <td>CA. 2314</td>\n      <td>7.5500</td>\n      <td>NaN</td>\n      <td>S</td>\n    </tr>\n    <tr>\n      <th>124</th>\n      <td>125</td>\n      <td>0</td>\n      <td>1</td>\n      <td>White, Mr. Percival Wayland</td>\n      <td>male</td>\n      <td>54.0</td>\n      <td>0</td>\n      <td>1</td>\n      <td>35281</td>\n      <td>77.2875</td>\n      <td>D26</td>\n      <td>S</td>\n    </tr>\n    <tr>\n      <th>212</th>\n      <td>213</td>\n      <td>0</td>\n      <td>3</td>\n      <td>Perkin, Mr. John Henry</td>\n      <td>male</td>\n      <td>22.0</td>\n      <td>0</td>\n      <td>0</td>\n      <td>A/5 21174</td>\n      <td>7.2500</td>\n      <td>NaN</td>\n      <td>S</td>\n    </tr>\n    <tr>\n      <th>464</th>\n      <td>465</td>\n      <td>0</td>\n      <td>3</td>\n      <td>Maisner, Mr. Simon</td>\n      <td>male</td>\n      <td>NaN</td>\n      <td>0</td>\n      <td>0</td>\n      <td>A/S 2816</td>\n      <td>8.0500</td>\n      <td>NaN</td>\n      <td>S</td>\n    </tr>\n    <tr>\n      <th>422</th>\n      <td>423</td>\n      <td>0</td>\n      <td>3</td>\n      <td>Zimmerman, Mr. Leo</td>\n      <td>male</td>\n      <td>29.0</td>\n      <td>0</td>\n      <td>0</td>\n      <td>315082</td>\n      <td>7.8750</td>\n      <td>NaN</td>\n      <td>S</td>\n    </tr>\n  </tbody>\n</table>\n</div>"
     },
     "execution_count": 9,
     "metadata": {},
     "output_type": "execute_result"
    }
   ],
   "source": [
    "# 1.1 Charger les données d'apprentissage (Data/passagers.csv) dans un DataFrame nommé train. Afficher 10 exemples.\n",
    "\n",
    "train = pd.read_csv(\"./dev/machineLearning/machineLearning/data/Module1/passagers.csv\")\n",
    "\n",
    "train.sample(10)"
   ],
   "metadata": {
    "collapsed": false
   }
  },
  {
   "cell_type": "code",
   "execution_count": 10,
   "outputs": [
    {
     "data": {
      "text/plain": "     PassengerId  Pclass                                     Name     Sex  \\\n50           942       1                 Smith, Mr. Lucien Philip    male   \n64           956       1              Ryerson, Master. John Borie    male   \n214         1106       3   Andersson, Miss. Ida Augusta Margareta  female   \n73           965       1          Ovies y Rodriguez, Mr. Servando    male   \n310         1202       3                     Cacic, Mr. Jego Grga    male   \n296         1188       2                    Laroche, Miss. Louise  female   \n354         1246       3  Dean, Miss. Elizabeth Gladys Millvina\"\"  female   \n290         1182       1      Rheims, Mr. George Alexander Lucien    male   \n101          993       2                       Weisz, Mr. Leopold    male   \n383         1275       3      McNamee, Mrs. Neal (Eileen O'Leary)  female   \n\n       Age  SibSp  Parch         Ticket      Fare            Cabin Embarked  \n50   24.00      1      0          13695   60.0000              C31        S  \n64   13.00      2      2       PC 17608  262.3750  B57 B59 B63 B66        C  \n214  38.00      4      2         347091    7.7750              NaN        S  \n73   28.50      0      0       PC 17562   27.7208              D43        C  \n310  18.00      0      0         315091    8.6625              NaN        S  \n296   1.00      1      2  SC/Paris 2123   41.5792              NaN        C  \n354   0.17      1      2      C.A. 2315   20.5750              NaN        S  \n290    NaN      0      0       PC 17607   39.6000              NaN        S  \n101  27.00      1      0         228414   26.0000              NaN        S  \n383  19.00      1      0         376566   16.1000              NaN        S  ",
      "text/html": "<div>\n<style scoped>\n    .dataframe tbody tr th:only-of-type {\n        vertical-align: middle;\n    }\n\n    .dataframe tbody tr th {\n        vertical-align: top;\n    }\n\n    .dataframe thead th {\n        text-align: right;\n    }\n</style>\n<table border=\"1\" class=\"dataframe\">\n  <thead>\n    <tr style=\"text-align: right;\">\n      <th></th>\n      <th>PassengerId</th>\n      <th>Pclass</th>\n      <th>Name</th>\n      <th>Sex</th>\n      <th>Age</th>\n      <th>SibSp</th>\n      <th>Parch</th>\n      <th>Ticket</th>\n      <th>Fare</th>\n      <th>Cabin</th>\n      <th>Embarked</th>\n    </tr>\n  </thead>\n  <tbody>\n    <tr>\n      <th>50</th>\n      <td>942</td>\n      <td>1</td>\n      <td>Smith, Mr. Lucien Philip</td>\n      <td>male</td>\n      <td>24.00</td>\n      <td>1</td>\n      <td>0</td>\n      <td>13695</td>\n      <td>60.0000</td>\n      <td>C31</td>\n      <td>S</td>\n    </tr>\n    <tr>\n      <th>64</th>\n      <td>956</td>\n      <td>1</td>\n      <td>Ryerson, Master. John Borie</td>\n      <td>male</td>\n      <td>13.00</td>\n      <td>2</td>\n      <td>2</td>\n      <td>PC 17608</td>\n      <td>262.3750</td>\n      <td>B57 B59 B63 B66</td>\n      <td>C</td>\n    </tr>\n    <tr>\n      <th>214</th>\n      <td>1106</td>\n      <td>3</td>\n      <td>Andersson, Miss. Ida Augusta Margareta</td>\n      <td>female</td>\n      <td>38.00</td>\n      <td>4</td>\n      <td>2</td>\n      <td>347091</td>\n      <td>7.7750</td>\n      <td>NaN</td>\n      <td>S</td>\n    </tr>\n    <tr>\n      <th>73</th>\n      <td>965</td>\n      <td>1</td>\n      <td>Ovies y Rodriguez, Mr. Servando</td>\n      <td>male</td>\n      <td>28.50</td>\n      <td>0</td>\n      <td>0</td>\n      <td>PC 17562</td>\n      <td>27.7208</td>\n      <td>D43</td>\n      <td>C</td>\n    </tr>\n    <tr>\n      <th>310</th>\n      <td>1202</td>\n      <td>3</td>\n      <td>Cacic, Mr. Jego Grga</td>\n      <td>male</td>\n      <td>18.00</td>\n      <td>0</td>\n      <td>0</td>\n      <td>315091</td>\n      <td>8.6625</td>\n      <td>NaN</td>\n      <td>S</td>\n    </tr>\n    <tr>\n      <th>296</th>\n      <td>1188</td>\n      <td>2</td>\n      <td>Laroche, Miss. Louise</td>\n      <td>female</td>\n      <td>1.00</td>\n      <td>1</td>\n      <td>2</td>\n      <td>SC/Paris 2123</td>\n      <td>41.5792</td>\n      <td>NaN</td>\n      <td>C</td>\n    </tr>\n    <tr>\n      <th>354</th>\n      <td>1246</td>\n      <td>3</td>\n      <td>Dean, Miss. Elizabeth Gladys Millvina\"\"</td>\n      <td>female</td>\n      <td>0.17</td>\n      <td>1</td>\n      <td>2</td>\n      <td>C.A. 2315</td>\n      <td>20.5750</td>\n      <td>NaN</td>\n      <td>S</td>\n    </tr>\n    <tr>\n      <th>290</th>\n      <td>1182</td>\n      <td>1</td>\n      <td>Rheims, Mr. George Alexander Lucien</td>\n      <td>male</td>\n      <td>NaN</td>\n      <td>0</td>\n      <td>0</td>\n      <td>PC 17607</td>\n      <td>39.6000</td>\n      <td>NaN</td>\n      <td>S</td>\n    </tr>\n    <tr>\n      <th>101</th>\n      <td>993</td>\n      <td>2</td>\n      <td>Weisz, Mr. Leopold</td>\n      <td>male</td>\n      <td>27.00</td>\n      <td>1</td>\n      <td>0</td>\n      <td>228414</td>\n      <td>26.0000</td>\n      <td>NaN</td>\n      <td>S</td>\n    </tr>\n    <tr>\n      <th>383</th>\n      <td>1275</td>\n      <td>3</td>\n      <td>McNamee, Mrs. Neal (Eileen O'Leary)</td>\n      <td>female</td>\n      <td>19.00</td>\n      <td>1</td>\n      <td>0</td>\n      <td>376566</td>\n      <td>16.1000</td>\n      <td>NaN</td>\n      <td>S</td>\n    </tr>\n  </tbody>\n</table>\n</div>"
     },
     "execution_count": 10,
     "metadata": {},
     "output_type": "execute_result"
    }
   ],
   "source": [
    "# 1.2 Charger les données d'apprentissage (Data/test.csv) dans un Dataframe nommé test. Afficher 10 exemples.\n",
    "\n",
    "test = pd.read_csv('./dev/machineLearning/machineLearning/data/Module1/test.csv')\n",
    "\n",
    "test.sample(10)"
   ],
   "metadata": {
    "collapsed": false
   }
  },
  {
   "cell_type": "code",
   "execution_count": 11,
   "outputs": [
    {
     "name": "stdout",
     "output_type": "stream",
     "text": [
      "<class 'pandas.core.frame.DataFrame'>\n",
      "RangeIndex: 891 entries, 0 to 890\n",
      "Data columns (total 12 columns):\n",
      " #   Column       Non-Null Count  Dtype  \n",
      "---  ------       --------------  -----  \n",
      " 0   PassengerId  891 non-null    int64  \n",
      " 1   Survived     891 non-null    int64  \n",
      " 2   Pclass       891 non-null    int64  \n",
      " 3   Name         891 non-null    object \n",
      " 4   Sex          891 non-null    object \n",
      " 5   Age          714 non-null    float64\n",
      " 6   SibSp        891 non-null    int64  \n",
      " 7   Parch        891 non-null    int64  \n",
      " 8   Ticket       891 non-null    object \n",
      " 9   Fare         891 non-null    float64\n",
      " 10  Cabin        204 non-null    object \n",
      " 11  Embarked     889 non-null    object \n",
      "dtypes: float64(2), int64(5), object(5)\n",
      "memory usage: 83.7+ KB\n",
      "<class 'pandas.core.frame.DataFrame'>\n",
      "RangeIndex: 418 entries, 0 to 417\n",
      "Data columns (total 11 columns):\n",
      " #   Column       Non-Null Count  Dtype  \n",
      "---  ------       --------------  -----  \n",
      " 0   PassengerId  418 non-null    int64  \n",
      " 1   Pclass       418 non-null    int64  \n",
      " 2   Name         418 non-null    object \n",
      " 3   Sex          418 non-null    object \n",
      " 4   Age          332 non-null    float64\n",
      " 5   SibSp        418 non-null    int64  \n",
      " 6   Parch        418 non-null    int64  \n",
      " 7   Ticket       418 non-null    object \n",
      " 8   Fare         417 non-null    float64\n",
      " 9   Cabin        91 non-null     object \n",
      " 10  Embarked     418 non-null    object \n",
      "dtypes: float64(2), int64(4), object(5)\n",
      "memory usage: 36.0+ KB\n"
     ]
    }
   ],
   "source": [
    "# 1.3 Afficher les informations des deux DataFrames train et Test.\n",
    "\n",
    "train.info()\n",
    "\n",
    "test.info()"
   ],
   "metadata": {
    "collapsed": false
   }
  },
  {
   "cell_type": "code",
   "execution_count": 12,
   "outputs": [
    {
     "name": "stdout",
     "output_type": "stream",
     "text": [
      "38.38 de pourcentage de survie.\n"
     ]
    }
   ],
   "source": [
    "# 1.4 Calculer le taux global de survie\n",
    "\n",
    "survived = train['Survived'].mean() * 100\n",
    "\n",
    "print(round(survived, 2), \"de pourcentage de survie.\")\n"
   ],
   "metadata": {
    "collapsed": false
   }
  },
  {
   "cell_type": "code",
   "execution_count": 13,
   "outputs": [],
   "source": [
    "# Question 1 : Quel travail voyez-vous pour que les données soient prêtes à faire tourner dans un modèle ?\n",
    "# Retravailler les données afin de ne plus afficher des \"Nan\" dans les colonnes.\n",
    "\n",
    "# Question 2 : Quelle différence y a-t-il entre les données train et les données test ?\n",
    "# Il n'y a pas de colonne de survie dans les données test.\n",
    "\n",
    "# Question 3 : Quel est le rôle de ces deux sets de données ?\n"
   ],
   "metadata": {
    "collapsed": false
   }
  },
  {
   "cell_type": "code",
   "execution_count": 14,
   "outputs": [
    {
     "name": "stdout",
     "output_type": "stream",
     "text": [
      "Pclass\n",
      "1    62.962963\n",
      "2    47.282609\n",
      "3    24.236253\n",
      "Name: Survived, dtype: float64\n"
     ]
    }
   ],
   "source": [
    "# 2.1 Analyser l'effet de la variable Classe sur le taux de survie, en affichant le % de survie par classe\n",
    "\n",
    "survived_byclass = train.groupby(['Pclass'])['Survived'].mean() * 100\n",
    "\n",
    "print(survived_byclass)"
   ],
   "metadata": {
    "collapsed": false
   }
  },
  {
   "cell_type": "code",
   "execution_count": 15,
   "outputs": [
    {
     "name": "stdout",
     "output_type": "stream",
     "text": [
      "Sex\n",
      "female    74.203822\n",
      "male      18.890815\n",
      "Name: Survived, dtype: float64\n"
     ]
    }
   ],
   "source": [
    "# 2.2 Analyser l'effet de la variable Genre (Sex) sur le taux de survie, en affichant le % de survie par genre\n",
    "\n",
    "survived_bysex = train.groupby(['Sex'])['Survived'].mean() * 100\n",
    "\n",
    "print(survived_bysex)\n"
   ],
   "metadata": {
    "collapsed": false
   }
  },
  {
   "cell_type": "code",
   "execution_count": 16,
   "outputs": [
    {
     "name": "stdout",
     "output_type": "stream",
     "text": [
      "     PassengerId                                             Name   Age  \\\n",
      "679          680               Cardeza, Mr. Thomas Drake Martinez  36.0   \n",
      "879          880    Potter, Mrs. Thomas Jr (Lily Alexenia Wilson)  56.0   \n",
      "417          418                    Silven, Miss. Lyyli Karoliina  18.0   \n",
      "231          232                         Larsson, Mr. Bengt Edvin  29.0   \n",
      "827          828                            Mallet, Master. Andre   1.0   \n",
      "460          461                              Anderson, Mr. Harry  48.0   \n",
      "192          193  Andersen-Jensen, Miss. Carla Christine Nielsine  19.0   \n",
      "492          493                       Molson, Mr. Harry Markland  55.0   \n",
      "165          166  Goldsmith, Master. Frank John William \"Frankie\"   9.0   \n",
      "470          471                                Keefe, Mr. Arthur   NaN   \n",
      "\n",
      "        Sex  FamilySize  \n",
      "679    male           2  \n",
      "879  female           2  \n",
      "417  female           3  \n",
      "231    male           1  \n",
      "827    male           3  \n",
      "460    male           1  \n",
      "192  female           2  \n",
      "492    male           1  \n",
      "165    male           3  \n",
      "470    male           1  \n"
     ]
    }
   ],
   "source": [
    "# 2.3 Calculer une nouvelle colonne FamilySize contenant la taille de la famille, pour les DataFrame train et Test.\n",
    "# Afficher pour 10 exemples l'Id du passager, le nom, l'age, le sexe et la taille de la famille.\n",
    "\n",
    "def size_family(row):\n",
    "    return row['SibSp'] + row['Parch'] + 1\n",
    "\n",
    "train['FamilySize'] = train.apply(size_family, axis=1)\n",
    "test['FamilySize'] = test.apply(size_family, axis=1)\n",
    "print(train[['PassengerId', 'Name', 'Age', 'Sex', 'FamilySize']].sample(10))"
   ],
   "metadata": {
    "collapsed": false
   }
  },
  {
   "cell_type": "code",
   "execution_count": 17,
   "outputs": [
    {
     "name": "stdout",
     "output_type": "stream",
     "text": [
      "FamilySize\n",
      "1     30.35\n",
      "2     55.28\n",
      "3     57.84\n",
      "4     72.41\n",
      "5     20.00\n",
      "6     13.64\n",
      "7     33.33\n",
      "8      0.00\n",
      "11     0.00\n",
      "Name: Survived, dtype: float64\n"
     ]
    }
   ],
   "source": [
    "# 2.4 Visualisez le nombre de personnes et le taux de survie par taille de famille.\n",
    "\n",
    "survived_byfamilysize= round(train.groupby(['FamilySize'])['Survived'].mean() * 100, 2)\n",
    "\n",
    "print(survived_byfamilysize)"
   ],
   "metadata": {
    "collapsed": false
   }
  },
  {
   "cell_type": "code",
   "execution_count": 18,
   "outputs": [
    {
     "name": "stdout",
     "output_type": "stream",
     "text": [
      "     PassengerId                                               Name   Age  \\\n",
      "575          576                               Patchett, Mr. George  19.0   \n",
      "696          697                                   Kelly, Mr. James  44.0   \n",
      "658          659                       Eitemiller, Mr. George Floyd  23.0   \n",
      "814          815                         Tomlin, Mr. Ernest Portage  30.5   \n",
      "68            69                    Andersson, Miss. Erna Alexandra  17.0   \n",
      "274          275                         Healy, Miss. Hanora \"Nora\"   NaN   \n",
      "330          331                                 McCoy, Miss. Agnes   NaN   \n",
      "427          428  Phillips, Miss. Kate Florence (\"Mrs Kate Louis...  19.0   \n",
      "233          234                     Asplund, Miss. Lillian Gertrud   5.0   \n",
      "205          206                         Strom, Miss. Telma Matilda   2.0   \n",
      "\n",
      "        Sex  isAlone  FamilySize  \n",
      "575    male        1           1  \n",
      "696    male        1           1  \n",
      "658    male        1           1  \n",
      "814    male        1           1  \n",
      "68   female        0           7  \n",
      "274  female        1           1  \n",
      "330  female        0           3  \n",
      "427  female        1           1  \n",
      "233  female        0           7  \n",
      "205  female        0           2  \n"
     ]
    }
   ],
   "source": [
    "# 2.5 Calculer une nouvelle colonne IsAlone indiquant si le passager est seul ou pas, pour les DataFrame train et Test. Afficher pour 10 exemples l'Id du passager, le nom, l'age, le sexe et le status IsAlone.\n",
    "\n",
    "def is_alone(row):\n",
    "    if row['FamilySize'] == 1 :\n",
    "        return 1\n",
    "    else :\n",
    "        return 0\n",
    "\n",
    "train['isAlone'] = train.apply(is_alone, axis=1)\n",
    "test['isAlone'] = test.apply(is_alone, axis=1)\n",
    "\n",
    "print(train[['PassengerId', 'Name', 'Age', 'Sex', 'isAlone', 'FamilySize']].sample(10))"
   ],
   "metadata": {
    "collapsed": false
   }
  },
  {
   "cell_type": "code",
   "execution_count": 19,
   "outputs": [
    {
     "name": "stdout",
     "output_type": "stream",
     "text": [
      "isAlone\n",
      "0    50.56\n",
      "1    30.35\n",
      "Name: Survived, dtype: float64\n"
     ]
    }
   ],
   "source": [
    "# 2.6 Visualisez le nombre de personnes et le taux de survie par statut seul ou pas.\n",
    "\n",
    "survived_aloneOrNot = round(train.groupby(['isAlone'])['Survived'].mean() * 100, 2)\n",
    "\n",
    "print(survived_aloneOrNot)"
   ],
   "metadata": {
    "collapsed": false
   }
  },
  {
   "cell_type": "code",
   "execution_count": 20,
   "outputs": [],
   "source": [
    "# 2.7 Calculer l'information mutuelle sur les données train.\n",
    "# Attention : Il y a des données continues et des données discrètes\n",
    "# Ignorer les colonnes Name, Ticket et Cabin\n",
    "\n"
   ],
   "metadata": {
    "collapsed": false
   }
  },
  {
   "cell_type": "code",
   "execution_count": 21,
   "outputs": [],
   "source": [
    "# 2.8 Afficher dans un graphique les scores d'information mutuelle par feature\n"
   ],
   "metadata": {
    "collapsed": false
   }
  },
  {
   "cell_type": "code",
   "execution_count": 22,
   "outputs": [],
   "source": [
    "# Question 1 : La variable Classe est-elle utile pour prévoir la survie ? Pourquoi ?\n",
    "\n",
    "# Question 2 : Même question pour la variable Sex\n",
    "\n",
    "# Question 3 : Comment traiter les variables liées à la famille du passager ?"
   ],
   "metadata": {
    "collapsed": false
   }
  },
  {
   "cell_type": "code",
   "execution_count": 23,
   "outputs": [
    {
     "name": "stdout",
     "output_type": "stream",
     "text": [
      "     PassengerId                           Name   Age     Sex Embarked\n",
      "211          212     Cameron, Miss. Clear Annie  35.0  female        S\n",
      "522          523             Lahoud, Mr. Sarkis   NaN    male        C\n",
      "217          218   Jacobsohn, Mr. Sidney Samuel  42.0    male        S\n",
      "773          774                Elias, Mr. Dibo   NaN    male        C\n",
      "116          117           Connors, Mr. Patrick  70.5    male        Q\n",
      "729          730  Ilmakangas, Miss. Pieta Sofia  25.0  female        S\n",
      "795          796             Otter, Mr. Richard  39.0    male        S\n",
      "76            77              Staneff, Mr. Ivan   NaN    male        S\n",
      "218          219          Bazzani, Miss. Albina  32.0  female        C\n",
      "175          176         Klasen, Mr. Klas Albin  18.0    male        S\n"
     ]
    }
   ],
   "source": [
    "# 3.1 La variable \"Embarked\" possède des valeurs nulles, compléter par la valeur majoritaire (S).\n",
    "\n",
    "train['Embarked'].fillna('S', inplace=True)\n",
    "test['Embarked'].fillna('S', inplace=True)\n",
    "\n",
    "print(train[['PassengerId', 'Name', 'Age', 'Sex', 'Embarked']].sample(10))"
   ],
   "metadata": {
    "collapsed": false
   }
  },
  {
   "cell_type": "code",
   "execution_count": 24,
   "outputs": [
    {
     "name": "stdout",
     "output_type": "stream",
     "text": [
      "Embarked\n",
      "C    55.36\n",
      "Q    38.96\n",
      "S    33.90\n",
      "Name: Survived, dtype: float64\n"
     ]
    }
   ],
   "source": [
    "# 3.2 Afficher l'influence du port d'embarquement sur la Survie\n",
    "\n",
    "survived_embarked = round(train.groupby(['Embarked'])['Survived'].mean() * 100, 2)\n",
    "\n",
    "print(survived_embarked)"
   ],
   "metadata": {
    "collapsed": false
   }
  },
  {
   "cell_type": "code",
   "execution_count": 25,
   "outputs": [
    {
     "name": "stdout",
     "output_type": "stream",
     "text": [
      "     PassengerId                                             Name   Age  \\\n",
      "492          493                       Molson, Mr. Harry Markland  55.0   \n",
      "869          870                  Johnson, Master. Harold Theodor   4.0   \n",
      "52            53         Harper, Mrs. Henry Sleeper (Myna Haxtun)  49.0   \n",
      "186          187  O'Brien, Mrs. Thomas (Johanna \"Hannah\" Godfrey)   NaN   \n",
      "458          459                              Toomey, Miss. Ellen  50.0   \n",
      "633          634                    Parr, Mr. William Henry Marsh   NaN   \n",
      "74            75                                    Bing, Mr. Lee  32.0   \n",
      "564          565                   Meanwell, Miss. (Marion Ogden)   NaN   \n",
      "764          765                           Eklund, Mr. Hans Linus  16.0   \n",
      "293          294                              Haas, Miss. Aloisia  24.0   \n",
      "\n",
      "        Sex     Fare  \n",
      "492    male  30.5000  \n",
      "869    male  11.1333  \n",
      "52   female  76.7292  \n",
      "186  female  15.5000  \n",
      "458  female  10.5000  \n",
      "633    male   0.0000  \n",
      "74     male  56.4958  \n",
      "564  female   8.0500  \n",
      "764    male   7.7750  \n",
      "293  female   8.8500  \n"
     ]
    }
   ],
   "source": [
    "# 3.3 La variable \"Fare\" (prix du ticket) possède des valeurs manquantes. Remplacer ces valeurs par la valeur médiane.\n",
    "\n",
    "train['Fare'].fillna(train['Fare'].median(), inplace=True)\n",
    "test['Fare'].fillna(test['Fare'].median(), inplace=True)\n",
    "\n",
    "print(train[['PassengerId', 'Name', 'Age', 'Sex', 'Fare']].sample(10))"
   ],
   "metadata": {
    "collapsed": false
   }
  },
  {
   "cell_type": "code",
   "execution_count": 26,
   "outputs": [
    {
     "ename": "SyntaxError",
     "evalue": "invalid syntax (195668231.py, line 3)",
     "output_type": "error",
     "traceback": [
      "\u001B[0;36m  Cell \u001B[0;32mIn[26], line 3\u001B[0;36m\u001B[0m\n\u001B[0;31m    categoricalFare =\u001B[0m\n\u001B[0m                     ^\u001B[0m\n\u001B[0;31mSyntaxError\u001B[0m\u001B[0;31m:\u001B[0m invalid syntax\n"
     ]
    }
   ],
   "source": [
    "# 3.4 Créer une variable CategoricalFare Découpant la valeur de ticket en 4 catégories de tailles à peu près égales.\n",
    "\n",
    "categoricalFare = pd.cut()"
   ],
   "metadata": {
    "collapsed": false
   }
  },
  {
   "cell_type": "code",
   "execution_count": null,
   "outputs": [],
   "source": [
    "# 3.5 Analyser l'effet de ces catégories de prix de ticket sur la survie."
   ],
   "metadata": {
    "collapsed": false
   }
  },
  {
   "cell_type": "code",
   "execution_count": null,
   "outputs": [],
   "source": [
    "# 3.6 Combien de valeurs d'Age manquent ? Complète par des valeurs entières aléatoires entre (moyenne - écart type) et (moyenne + écart type).\n"
   ],
   "metadata": {
    "collapsed": false
   }
  },
  {
   "cell_type": "code",
   "execution_count": null,
   "outputs": [],
   "source": [
    "# 3.7 Créer une variable CategoricalAge Découpant la valeur d'age en 5 catégories égales.\n"
   ],
   "metadata": {
    "collapsed": false
   }
  },
  {
   "cell_type": "code",
   "execution_count": null,
   "outputs": [],
   "source": [
    "# 3.8 Analyser l'effet de ces catégories d'age sur la survie."
   ],
   "metadata": {
    "collapsed": false
   }
  },
  {
   "cell_type": "code",
   "execution_count": null,
   "outputs": [],
   "source": [
    "# Question 1 : Classer les variables par ordre d'intérêt"
   ],
   "metadata": {
    "collapsed": false
   }
  },
  {
   "cell_type": "code",
   "execution_count": null,
   "outputs": [],
   "source": [
    "# 4.1 : Le nom permet de retrouver le titre du passager. Trouver les titres lorsqu'ils existent."
   ],
   "metadata": {
    "collapsed": false
   }
  },
  {
   "cell_type": "code",
   "execution_count": null,
   "outputs": [],
   "source": [
    "# 4.2 : En utilisant la fonction pandas crosstab, afficher pour train le nombre d'occurrences par titres (en ligne) et par sexe (en colonne)\n"
   ],
   "metadata": {
    "collapsed": false
   }
  },
  {
   "cell_type": "code",
   "execution_count": null,
   "outputs": [],
   "source": [
    "#4.3 : Remplacer 'Melle et 'Ms' par 'Miss'\n",
    "#      Remplacer 'Mme' par 'Mrs'\n",
    "# Créer une valeur \"Rare\" pour les autres titres avec moins de 10 occurrences.\n",
    "# Calculer ensuite le taux de survie par titre\n"
   ],
   "metadata": {
    "collapsed": false
   }
  },
  {
   "cell_type": "code",
   "execution_count": null,
   "outputs": [],
   "source": [
    "# 5.2 : Attribuer une valeur pour les possibilités de la variable \"Title\" ('Master','Miss','Mr','Mrs','Rare'). (Question optionnel 4 nécessaires)"
   ],
   "metadata": {
    "collapsed": false
   }
  },
  {
   "cell_type": "code",
   "execution_count": null,
   "outputs": [],
   "source": [
    "# 5.3 Remplacer les titres manquant par 0, et attribuer à la colonne le type entier. (Question optionnelle 4 nécessaires)\n"
   ],
   "metadata": {
    "collapsed": false
   }
  },
  {
   "cell_type": "code",
   "execution_count": null,
   "outputs": [],
   "source": [
    "# 5.4 Attribuer une valeur numérique aux 4 catégories de la variable Fare (question 3.6)"
   ],
   "metadata": {
    "collapsed": false
   }
  },
  {
   "cell_type": "code",
   "execution_count": null,
   "outputs": [],
   "source": [
    "# 5.5 Attribuer une valeur numérique au Port d'embarquement (Embarked)"
   ],
   "metadata": {
    "collapsed": false
   }
  },
  {
   "cell_type": "code",
   "execution_count": null,
   "outputs": [],
   "source": [
    "# 5.6 Supprimer les features inutiles\n"
   ],
   "metadata": {
    "collapsed": false
   }
  },
  {
   "cell_type": "code",
   "execution_count": null,
   "outputs": [],
   "source": [
    "# 5.7 Afficher les infos pour les deux datasets\n"
   ],
   "metadata": {
    "collapsed": false
   }
  },
  {
   "cell_type": "code",
   "execution_count": null,
   "outputs": [],
   "source": [
    "# 5.8 Sauver les deux datasets dans des fichiers csv. Éviter d'écrire un index (n° de ligne)\n"
   ],
   "metadata": {
    "collapsed": false
   }
  },
  {
   "cell_type": "code",
   "execution_count": null,
   "outputs": [],
   "source": [
    "# Question : Sur combien de questions avez-vous utilisé les conseils ?\n"
   ],
   "metadata": {
    "collapsed": false
   }
  }
 ],
 "metadata": {
  "kernelspec": {
   "display_name": "Python 3",
   "language": "python",
   "name": "python3"
  },
  "language_info": {
   "codemirror_mode": {
    "name": "ipython",
    "version": 2
   },
   "file_extension": ".py",
   "mimetype": "text/x-python",
   "name": "python",
   "nbconvert_exporter": "python",
   "pygments_lexer": "ipython2",
   "version": "2.7.6"
  }
 },
 "nbformat": 4,
 "nbformat_minor": 0
}
