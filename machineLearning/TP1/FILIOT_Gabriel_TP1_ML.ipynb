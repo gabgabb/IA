{
 "cells": [
  {
   "cell_type": "code",
   "execution_count": 109,
   "metadata": {
    "collapsed": true,
    "ExecuteTime": {
     "start_time": "2023-03-29T18:56:35.045854Z",
     "end_time": "2023-03-29T18:56:35.123664Z"
    }
   },
   "outputs": [],
   "source": [
    "#Imports librairies de base\n",
    "import numpy as np\n",
    "import pandas as pd\n",
    "\n",
    "#Bibliothèques pour Cross validation\n",
    "\n",
    "#Affichage de Graphes\n",
    "from IPython.display import Markdown, display, HTML\n",
    "import matplotlib.pyplot as plt\n",
    "\n",
    "#Information Mutuelle\n",
    "from sklearn.feature_selection import mutual_info_regression"
   ]
  },
  {
   "cell_type": "code",
   "execution_count": 110,
   "outputs": [
    {
     "data": {
      "text/plain": "     PassengerId  Survived  Pclass                                      Name  \\\n698          699         0       1                  Thayer, Mr. John Borland   \n407          408         1       2            Richards, Master. William Rowe   \n148          149         0       2  Navratil, Mr. Michel (\"Louis M Hoffman\")   \n521          522         0       3                           Vovk, Mr. Janko   \n330          331         1       3                        McCoy, Miss. Agnes   \n612          613         1       3               Murphy, Miss. Margaret Jane   \n404          405         0       3                   Oreskovic, Miss. Marija   \n353          354         0       3                 Arnold-Franchi, Mr. Josef   \n564          565         0       3            Meanwell, Miss. (Marion Ogden)   \n72            73         0       2                      Hood, Mr. Ambrose Jr   \n\n        Sex   Age  SibSp  Parch             Ticket      Fare Cabin Embarked  \n698    male  49.0      1      1              17421  110.8833   C68        C  \n407    male   3.0      1      1              29106   18.7500   NaN        S  \n148    male  36.5      0      2             230080   26.0000    F2        S  \n521    male  22.0      0      0             349252    7.8958   NaN        S  \n330  female   NaN      2      0             367226   23.2500   NaN        Q  \n612  female   NaN      1      0             367230   15.5000   NaN        Q  \n404  female  20.0      0      0             315096    8.6625   NaN        S  \n353    male  25.0      1      0             349237   17.8000   NaN        S  \n564  female   NaN      0      0  SOTON/O.Q. 392087    8.0500   NaN        S  \n72     male  21.0      0      0       S.O.C. 14879   73.5000   NaN        S  ",
      "text/html": "<div>\n<style scoped>\n    .dataframe tbody tr th:only-of-type {\n        vertical-align: middle;\n    }\n\n    .dataframe tbody tr th {\n        vertical-align: top;\n    }\n\n    .dataframe thead th {\n        text-align: right;\n    }\n</style>\n<table border=\"1\" class=\"dataframe\">\n  <thead>\n    <tr style=\"text-align: right;\">\n      <th></th>\n      <th>PassengerId</th>\n      <th>Survived</th>\n      <th>Pclass</th>\n      <th>Name</th>\n      <th>Sex</th>\n      <th>Age</th>\n      <th>SibSp</th>\n      <th>Parch</th>\n      <th>Ticket</th>\n      <th>Fare</th>\n      <th>Cabin</th>\n      <th>Embarked</th>\n    </tr>\n  </thead>\n  <tbody>\n    <tr>\n      <th>698</th>\n      <td>699</td>\n      <td>0</td>\n      <td>1</td>\n      <td>Thayer, Mr. John Borland</td>\n      <td>male</td>\n      <td>49.0</td>\n      <td>1</td>\n      <td>1</td>\n      <td>17421</td>\n      <td>110.8833</td>\n      <td>C68</td>\n      <td>C</td>\n    </tr>\n    <tr>\n      <th>407</th>\n      <td>408</td>\n      <td>1</td>\n      <td>2</td>\n      <td>Richards, Master. William Rowe</td>\n      <td>male</td>\n      <td>3.0</td>\n      <td>1</td>\n      <td>1</td>\n      <td>29106</td>\n      <td>18.7500</td>\n      <td>NaN</td>\n      <td>S</td>\n    </tr>\n    <tr>\n      <th>148</th>\n      <td>149</td>\n      <td>0</td>\n      <td>2</td>\n      <td>Navratil, Mr. Michel (\"Louis M Hoffman\")</td>\n      <td>male</td>\n      <td>36.5</td>\n      <td>0</td>\n      <td>2</td>\n      <td>230080</td>\n      <td>26.0000</td>\n      <td>F2</td>\n      <td>S</td>\n    </tr>\n    <tr>\n      <th>521</th>\n      <td>522</td>\n      <td>0</td>\n      <td>3</td>\n      <td>Vovk, Mr. Janko</td>\n      <td>male</td>\n      <td>22.0</td>\n      <td>0</td>\n      <td>0</td>\n      <td>349252</td>\n      <td>7.8958</td>\n      <td>NaN</td>\n      <td>S</td>\n    </tr>\n    <tr>\n      <th>330</th>\n      <td>331</td>\n      <td>1</td>\n      <td>3</td>\n      <td>McCoy, Miss. Agnes</td>\n      <td>female</td>\n      <td>NaN</td>\n      <td>2</td>\n      <td>0</td>\n      <td>367226</td>\n      <td>23.2500</td>\n      <td>NaN</td>\n      <td>Q</td>\n    </tr>\n    <tr>\n      <th>612</th>\n      <td>613</td>\n      <td>1</td>\n      <td>3</td>\n      <td>Murphy, Miss. Margaret Jane</td>\n      <td>female</td>\n      <td>NaN</td>\n      <td>1</td>\n      <td>0</td>\n      <td>367230</td>\n      <td>15.5000</td>\n      <td>NaN</td>\n      <td>Q</td>\n    </tr>\n    <tr>\n      <th>404</th>\n      <td>405</td>\n      <td>0</td>\n      <td>3</td>\n      <td>Oreskovic, Miss. Marija</td>\n      <td>female</td>\n      <td>20.0</td>\n      <td>0</td>\n      <td>0</td>\n      <td>315096</td>\n      <td>8.6625</td>\n      <td>NaN</td>\n      <td>S</td>\n    </tr>\n    <tr>\n      <th>353</th>\n      <td>354</td>\n      <td>0</td>\n      <td>3</td>\n      <td>Arnold-Franchi, Mr. Josef</td>\n      <td>male</td>\n      <td>25.0</td>\n      <td>1</td>\n      <td>0</td>\n      <td>349237</td>\n      <td>17.8000</td>\n      <td>NaN</td>\n      <td>S</td>\n    </tr>\n    <tr>\n      <th>564</th>\n      <td>565</td>\n      <td>0</td>\n      <td>3</td>\n      <td>Meanwell, Miss. (Marion Ogden)</td>\n      <td>female</td>\n      <td>NaN</td>\n      <td>0</td>\n      <td>0</td>\n      <td>SOTON/O.Q. 392087</td>\n      <td>8.0500</td>\n      <td>NaN</td>\n      <td>S</td>\n    </tr>\n    <tr>\n      <th>72</th>\n      <td>73</td>\n      <td>0</td>\n      <td>2</td>\n      <td>Hood, Mr. Ambrose Jr</td>\n      <td>male</td>\n      <td>21.0</td>\n      <td>0</td>\n      <td>0</td>\n      <td>S.O.C. 14879</td>\n      <td>73.5000</td>\n      <td>NaN</td>\n      <td>S</td>\n    </tr>\n  </tbody>\n</table>\n</div>"
     },
     "execution_count": 110,
     "metadata": {},
     "output_type": "execute_result"
    }
   ],
   "source": [
    "# 1.1 Charger les données d'apprentissage (Data/passagers.csv) dans un DataFrame nommé train. Afficher 10 exemples.\n",
    "\n",
    "train = pd.read_csv(\"../machineLearning/machineLearning/data/Module1/passagers.csv\")\n",
    "\n",
    "train.sample(10)"
   ],
   "metadata": {
    "collapsed": false,
    "ExecuteTime": {
     "start_time": "2023-03-29T18:56:37.599309Z",
     "end_time": "2023-03-29T18:56:37.635344Z"
    }
   }
  },
  {
   "cell_type": "code",
   "execution_count": 111,
   "outputs": [
    {
     "data": {
      "text/plain": "     PassengerId  Pclass                                       Name     Sex  \\\n250         1142       2                      West, Miss. Barbara J  female   \n257         1149       3                      Niklasson, Mr. Samuel    male   \n159         1051       3        Peacock, Mrs. Benjamin (Edith Nile)  female   \n8            900       3  Abrahim, Mrs. Joseph (Sophie Halaut Easu)  female   \n194         1086       2              Drew, Master. Marshall Brines    male   \n19           911       3      Assaf Khalil, Mrs. Mariana (Miriam\")\"  female   \n310         1202       3                       Cacic, Mr. Jego Grga    male   \n332         1224       3                        Thomas, Mr. Tannous    male   \n265         1157       3                      Lyntakoff, Mr. Stanko    male   \n371         1263       1                  Wilson, Miss. Helen Alice  female   \n\n       Age  SibSp  Parch              Ticket      Fare    Cabin Embarked  \n250   0.92      1      2          C.A. 34651   27.7500      NaN        S  \n257  28.00      0      0              363611    8.0500      NaN        S  \n159  26.00      0      2  SOTON/O.Q. 3101315   13.7750      NaN        S  \n8    18.00      0      0                2657    7.2292      NaN        C  \n194   8.00      0      2               28220   32.5000      NaN        S  \n19   45.00      0      0                2696    7.2250      NaN        C  \n310  18.00      0      0              315091    8.6625      NaN        S  \n332    NaN      0      0                2684    7.2250      NaN        C  \n265    NaN      0      0              349235    7.8958      NaN        S  \n371  31.00      0      0               16966  134.5000  E39 E41        C  ",
      "text/html": "<div>\n<style scoped>\n    .dataframe tbody tr th:only-of-type {\n        vertical-align: middle;\n    }\n\n    .dataframe tbody tr th {\n        vertical-align: top;\n    }\n\n    .dataframe thead th {\n        text-align: right;\n    }\n</style>\n<table border=\"1\" class=\"dataframe\">\n  <thead>\n    <tr style=\"text-align: right;\">\n      <th></th>\n      <th>PassengerId</th>\n      <th>Pclass</th>\n      <th>Name</th>\n      <th>Sex</th>\n      <th>Age</th>\n      <th>SibSp</th>\n      <th>Parch</th>\n      <th>Ticket</th>\n      <th>Fare</th>\n      <th>Cabin</th>\n      <th>Embarked</th>\n    </tr>\n  </thead>\n  <tbody>\n    <tr>\n      <th>250</th>\n      <td>1142</td>\n      <td>2</td>\n      <td>West, Miss. Barbara J</td>\n      <td>female</td>\n      <td>0.92</td>\n      <td>1</td>\n      <td>2</td>\n      <td>C.A. 34651</td>\n      <td>27.7500</td>\n      <td>NaN</td>\n      <td>S</td>\n    </tr>\n    <tr>\n      <th>257</th>\n      <td>1149</td>\n      <td>3</td>\n      <td>Niklasson, Mr. Samuel</td>\n      <td>male</td>\n      <td>28.00</td>\n      <td>0</td>\n      <td>0</td>\n      <td>363611</td>\n      <td>8.0500</td>\n      <td>NaN</td>\n      <td>S</td>\n    </tr>\n    <tr>\n      <th>159</th>\n      <td>1051</td>\n      <td>3</td>\n      <td>Peacock, Mrs. Benjamin (Edith Nile)</td>\n      <td>female</td>\n      <td>26.00</td>\n      <td>0</td>\n      <td>2</td>\n      <td>SOTON/O.Q. 3101315</td>\n      <td>13.7750</td>\n      <td>NaN</td>\n      <td>S</td>\n    </tr>\n    <tr>\n      <th>8</th>\n      <td>900</td>\n      <td>3</td>\n      <td>Abrahim, Mrs. Joseph (Sophie Halaut Easu)</td>\n      <td>female</td>\n      <td>18.00</td>\n      <td>0</td>\n      <td>0</td>\n      <td>2657</td>\n      <td>7.2292</td>\n      <td>NaN</td>\n      <td>C</td>\n    </tr>\n    <tr>\n      <th>194</th>\n      <td>1086</td>\n      <td>2</td>\n      <td>Drew, Master. Marshall Brines</td>\n      <td>male</td>\n      <td>8.00</td>\n      <td>0</td>\n      <td>2</td>\n      <td>28220</td>\n      <td>32.5000</td>\n      <td>NaN</td>\n      <td>S</td>\n    </tr>\n    <tr>\n      <th>19</th>\n      <td>911</td>\n      <td>3</td>\n      <td>Assaf Khalil, Mrs. Mariana (Miriam\")\"</td>\n      <td>female</td>\n      <td>45.00</td>\n      <td>0</td>\n      <td>0</td>\n      <td>2696</td>\n      <td>7.2250</td>\n      <td>NaN</td>\n      <td>C</td>\n    </tr>\n    <tr>\n      <th>310</th>\n      <td>1202</td>\n      <td>3</td>\n      <td>Cacic, Mr. Jego Grga</td>\n      <td>male</td>\n      <td>18.00</td>\n      <td>0</td>\n      <td>0</td>\n      <td>315091</td>\n      <td>8.6625</td>\n      <td>NaN</td>\n      <td>S</td>\n    </tr>\n    <tr>\n      <th>332</th>\n      <td>1224</td>\n      <td>3</td>\n      <td>Thomas, Mr. Tannous</td>\n      <td>male</td>\n      <td>NaN</td>\n      <td>0</td>\n      <td>0</td>\n      <td>2684</td>\n      <td>7.2250</td>\n      <td>NaN</td>\n      <td>C</td>\n    </tr>\n    <tr>\n      <th>265</th>\n      <td>1157</td>\n      <td>3</td>\n      <td>Lyntakoff, Mr. Stanko</td>\n      <td>male</td>\n      <td>NaN</td>\n      <td>0</td>\n      <td>0</td>\n      <td>349235</td>\n      <td>7.8958</td>\n      <td>NaN</td>\n      <td>S</td>\n    </tr>\n    <tr>\n      <th>371</th>\n      <td>1263</td>\n      <td>1</td>\n      <td>Wilson, Miss. Helen Alice</td>\n      <td>female</td>\n      <td>31.00</td>\n      <td>0</td>\n      <td>0</td>\n      <td>16966</td>\n      <td>134.5000</td>\n      <td>E39 E41</td>\n      <td>C</td>\n    </tr>\n  </tbody>\n</table>\n</div>"
     },
     "execution_count": 111,
     "metadata": {},
     "output_type": "execute_result"
    }
   ],
   "source": [
    "# 1.2 Charger les données d'apprentissage (Data/test.csv) dans un Dataframe nommé test. Afficher 10 exemples.\n",
    "\n",
    "test = pd.read_csv('../machineLearning/machineLearning/data/Module1/test.csv')\n",
    "\n",
    "test.sample(10)"
   ],
   "metadata": {
    "collapsed": false,
    "ExecuteTime": {
     "start_time": "2023-03-29T18:56:39.558126Z",
     "end_time": "2023-03-29T18:56:39.598799Z"
    }
   }
  },
  {
   "cell_type": "code",
   "execution_count": 112,
   "outputs": [
    {
     "name": "stdout",
     "output_type": "stream",
     "text": [
      "<class 'pandas.core.frame.DataFrame'>\n",
      "RangeIndex: 891 entries, 0 to 890\n",
      "Data columns (total 12 columns):\n",
      " #   Column       Non-Null Count  Dtype  \n",
      "---  ------       --------------  -----  \n",
      " 0   PassengerId  891 non-null    int64  \n",
      " 1   Survived     891 non-null    int64  \n",
      " 2   Pclass       891 non-null    int64  \n",
      " 3   Name         891 non-null    object \n",
      " 4   Sex          891 non-null    object \n",
      " 5   Age          714 non-null    float64\n",
      " 6   SibSp        891 non-null    int64  \n",
      " 7   Parch        891 non-null    int64  \n",
      " 8   Ticket       891 non-null    object \n",
      " 9   Fare         891 non-null    float64\n",
      " 10  Cabin        204 non-null    object \n",
      " 11  Embarked     889 non-null    object \n",
      "dtypes: float64(2), int64(5), object(5)\n",
      "memory usage: 83.7+ KB\n",
      "<class 'pandas.core.frame.DataFrame'>\n",
      "RangeIndex: 418 entries, 0 to 417\n",
      "Data columns (total 11 columns):\n",
      " #   Column       Non-Null Count  Dtype  \n",
      "---  ------       --------------  -----  \n",
      " 0   PassengerId  418 non-null    int64  \n",
      " 1   Pclass       418 non-null    int64  \n",
      " 2   Name         418 non-null    object \n",
      " 3   Sex          418 non-null    object \n",
      " 4   Age          332 non-null    float64\n",
      " 5   SibSp        418 non-null    int64  \n",
      " 6   Parch        418 non-null    int64  \n",
      " 7   Ticket       418 non-null    object \n",
      " 8   Fare         417 non-null    float64\n",
      " 9   Cabin        91 non-null     object \n",
      " 10  Embarked     418 non-null    object \n",
      "dtypes: float64(2), int64(4), object(5)\n",
      "memory usage: 36.0+ KB\n"
     ]
    }
   ],
   "source": [
    "# 1.3 Afficher les informations des deux DataFrames train et Test.\n",
    "\n",
    "train.info()\n",
    "\n",
    "test.info()"
   ],
   "metadata": {
    "collapsed": false,
    "ExecuteTime": {
     "start_time": "2023-03-29T18:56:41.266219Z",
     "end_time": "2023-03-29T18:56:41.291419Z"
    }
   }
  },
  {
   "cell_type": "code",
   "execution_count": 113,
   "outputs": [
    {
     "name": "stdout",
     "output_type": "stream",
     "text": [
      "38.38 de pourcentage de survie.\n"
     ]
    }
   ],
   "source": [
    "# 1.4 Calculer le taux global de survie\n",
    "\n",
    "survived = train['Survived'].mean() * 100\n",
    "\n",
    "print(round(survived, 2), \"de pourcentage de survie.\")\n"
   ],
   "metadata": {
    "collapsed": false,
    "ExecuteTime": {
     "start_time": "2023-03-29T18:56:42.438725Z",
     "end_time": "2023-03-29T18:56:42.475834Z"
    }
   }
  },
  {
   "cell_type": "code",
   "execution_count": 114,
   "outputs": [],
   "source": [
    "# Question 1 : Quel travail voyez-vous pour que les données soient prêtes à faire tourner dans un modèle ?\n",
    "# Retravailler les données afin de ne plus afficher des \"Nan\" dans les colonnes.\n",
    "\n",
    "# Question 2 : Quelle différence y a-t-il entre les données train et les données test ?\n",
    "# Il n'y a pas de colonne de survie dans les données test.\n",
    "\n",
    "# Question 3 : Quel est le rôle de ces deux sets de données ?\n",
    "# Les données du train permettent d'entrainer notre modèle test."
   ],
   "metadata": {
    "collapsed": false,
    "ExecuteTime": {
     "start_time": "2023-03-29T18:56:43.417512Z",
     "end_time": "2023-03-29T18:56:43.445818Z"
    }
   }
  },
  {
   "cell_type": "code",
   "execution_count": 115,
   "outputs": [
    {
     "name": "stdout",
     "output_type": "stream",
     "text": [
      "Pclass\n",
      "1    62.962963\n",
      "2    47.282609\n",
      "3    24.236253\n",
      "Name: Survived, dtype: float64\n"
     ]
    }
   ],
   "source": [
    "# 2.1 Analyser l'effet de la variable Classe sur le taux de survie, en affichant le % de survie par classe\n",
    "\n",
    "survived_byclass = train.groupby(['Pclass'])['Survived'].mean() * 100\n",
    "\n",
    "print(survived_byclass)"
   ],
   "metadata": {
    "collapsed": false,
    "ExecuteTime": {
     "start_time": "2023-03-29T18:56:43.918908Z",
     "end_time": "2023-03-29T18:56:43.924906Z"
    }
   }
  },
  {
   "cell_type": "code",
   "execution_count": 116,
   "outputs": [
    {
     "name": "stdout",
     "output_type": "stream",
     "text": [
      "Sex\n",
      "female    74.203822\n",
      "male      18.890815\n",
      "Name: Survived, dtype: float64\n"
     ]
    }
   ],
   "source": [
    "# 2.2 Analyser l'effet de la variable Genre (Sex) sur le taux de survie, en affichant le % de survie par genre\n",
    "\n",
    "survived_bysex = train.groupby(['Sex'])['Survived'].mean() * 100\n",
    "\n",
    "print(survived_bysex)\n"
   ],
   "metadata": {
    "collapsed": false,
    "ExecuteTime": {
     "start_time": "2023-03-29T18:56:44.737565Z",
     "end_time": "2023-03-29T18:56:44.757560Z"
    }
   }
  },
  {
   "cell_type": "code",
   "execution_count": 117,
   "outputs": [
    {
     "name": "stdout",
     "output_type": "stream",
     "text": [
      "     PassengerId                                   Name   Age     Sex  \\\n",
      "243          244          Maenpaa, Mr. Matti Alexanteri  22.0    male   \n",
      "488          489          Somerton, Mr. Francis William  30.0    male   \n",
      "91            92             Andreasson, Mr. Paul Edvin  20.0    male   \n",
      "711          712                     Klaber, Mr. Herman   NaN    male   \n",
      "516          517           Lemore, Mrs. (Amelia Milley)  34.0  female   \n",
      "147          148       Ford, Miss. Robina Maggie \"Ruby\"   9.0  female   \n",
      "109          110                    Moran, Miss. Bertha   NaN  female   \n",
      "742          743  Ryerson, Miss. Susan Parker \"Suzette\"  21.0  female   \n",
      "329          330           Hippach, Miss. Jean Gertrude  16.0  female   \n",
      "15            16       Hewlett, Mrs. (Mary D Kingcome)   55.0  female   \n",
      "\n",
      "     FamilySize  \n",
      "243           1  \n",
      "488           1  \n",
      "91            1  \n",
      "711           1  \n",
      "516           1  \n",
      "147           5  \n",
      "109           2  \n",
      "742           5  \n",
      "329           2  \n",
      "15            1  \n"
     ]
    }
   ],
   "source": [
    "# 2.3 Calculer une nouvelle colonne FamilySize contenant la taille de la famille, pour les DataFrame train et Test.\n",
    "# Afficher pour 10 exemples l'Id du passager, le nom, l'age, le sexe et la taille de la famille.\n",
    "\n",
    "def size_family(row):\n",
    "    return row['SibSp'] + row['Parch'] + 1\n",
    "\n",
    "train['FamilySize'] = train.apply(size_family, axis=1)\n",
    "test['FamilySize'] = test.apply(size_family, axis=1)\n",
    "\n",
    "print(train[['PassengerId', 'Name', 'Age', 'Sex', 'FamilySize']].sample(10))"
   ],
   "metadata": {
    "collapsed": false,
    "ExecuteTime": {
     "start_time": "2023-03-29T18:56:45.513023Z",
     "end_time": "2023-03-29T18:56:45.525742Z"
    }
   }
  },
  {
   "cell_type": "code",
   "execution_count": 118,
   "outputs": [
    {
     "name": "stdout",
     "output_type": "stream",
     "text": [
      "FamilySize\n",
      "1     30.35\n",
      "2     55.28\n",
      "3     57.84\n",
      "4     72.41\n",
      "5     20.00\n",
      "6     13.64\n",
      "7     33.33\n",
      "8      0.00\n",
      "11     0.00\n",
      "Name: Survived, dtype: float64\n"
     ]
    }
   ],
   "source": [
    "# 2.4 Visualisez le nombre de personnes et le taux de survie par taille de famille.\n",
    "\n",
    "survived_byfamilysize= round(train.groupby(['FamilySize'])['Survived'].mean() * 100, 2)\n",
    "\n",
    "print(survived_byfamilysize)"
   ],
   "metadata": {
    "collapsed": false,
    "ExecuteTime": {
     "start_time": "2023-03-29T18:56:45.974889Z",
     "end_time": "2023-03-29T18:56:45.980894Z"
    }
   }
  },
  {
   "cell_type": "code",
   "execution_count": 119,
   "outputs": [
    {
     "name": "stdout",
     "output_type": "stream",
     "text": [
      "     PassengerId                                               Name   Age  \\\n",
      "799          800  Van Impe, Mrs. Jean Baptiste (Rosalie Paula Go...  30.0   \n",
      "710          711   Mayne, Mlle. Berthe Antonine (\"Mrs de Villiers\")  24.0   \n",
      "602          603                          Harrington, Mr. Charles H   NaN   \n",
      "279          280                   Abbott, Mrs. Stanton (Rosa Hunt)  35.0   \n",
      "400          401                                 Niskanen, Mr. Juha  39.0   \n",
      "15            16                   Hewlett, Mrs. (Mary D Kingcome)   55.0   \n",
      "516          517                       Lemore, Mrs. (Amelia Milley)  34.0   \n",
      "281          282                   Olsson, Mr. Nils Johan Goransson  28.0   \n",
      "853          854                          Lines, Miss. Mary Conover  16.0   \n",
      "118          119                           Baxter, Mr. Quigg Edmond  24.0   \n",
      "\n",
      "        Sex  isAlone  FamilySize  \n",
      "799  female        0           3  \n",
      "710  female        1           1  \n",
      "602    male        1           1  \n",
      "279  female        0           3  \n",
      "400    male        1           1  \n",
      "15   female        1           1  \n",
      "516  female        1           1  \n",
      "281    male        1           1  \n",
      "853  female        0           2  \n",
      "118    male        0           2  \n"
     ]
    }
   ],
   "source": [
    "# 2.5 Calculer une nouvelle colonne IsAlone indiquant si le passager est seul ou pas, pour les DataFrame train et Test. Afficher pour 10 exemples l'Id du passager, le nom, l'age, le sexe et le status IsAlone.\n",
    "\n",
    "def is_alone(row):\n",
    "    if row['FamilySize'] == 1 :\n",
    "        return 1\n",
    "    else :\n",
    "        return 0\n",
    "\n",
    "train['isAlone'] = train.apply(is_alone, axis=1)\n",
    "test['isAlone'] = test.apply(is_alone, axis=1)\n",
    "\n",
    "print(train[['PassengerId', 'Name', 'Age', 'Sex', 'isAlone', 'FamilySize']].sample(10))"
   ],
   "metadata": {
    "collapsed": false,
    "ExecuteTime": {
     "start_time": "2023-03-29T18:56:46.697016Z",
     "end_time": "2023-03-29T18:56:46.720764Z"
    }
   }
  },
  {
   "cell_type": "code",
   "execution_count": 120,
   "outputs": [
    {
     "name": "stdout",
     "output_type": "stream",
     "text": [
      "isAlone\n",
      "0    50.56\n",
      "1    30.35\n",
      "Name: Survived, dtype: float64\n"
     ]
    }
   ],
   "source": [
    "# 2.6 Visualisez le nombre de personnes et le taux de survie par statut seul ou pas.\n",
    "\n",
    "survived_aloneOrNot = round(train.groupby(['isAlone'])['Survived'].mean() * 100, 2)\n",
    "\n",
    "print(survived_aloneOrNot)"
   ],
   "metadata": {
    "collapsed": false,
    "ExecuteTime": {
     "start_time": "2023-03-29T18:56:47.411414Z",
     "end_time": "2023-03-29T18:56:47.434511Z"
    }
   }
  },
  {
   "cell_type": "code",
   "execution_count": 121,
   "outputs": [],
   "source": [
    "# 2.7 Calculer l'information mutuelle sur les données train.\n",
    "# Attention : Il y a des données continues et des données discrètes\n",
    "# Ignorer les colonnes Name, Ticket et Cabin\n",
    "\n",
    "train['Fare'].fillna(train['Fare'].median(), inplace=True)\n",
    "train['Age'].fillna(train['Age'].median(), inplace=True)\n",
    "\n",
    "df = pd.get_dummies(train, columns=['Sex', 'Embarked', 'Pclass'])\n",
    "\n",
    "axis = df.drop(['Survived', 'Name', 'Ticket', 'Cabin'], axis=1)\n",
    "ordonne = df['Survived']\n",
    "\n",
    "mutual_info = mutual_info_regression(axis, ordonne)\n",
    "\n",
    "score = pd.Series(mutual_info, name=\"MI Scores\", index=df.drop(['Survived', 'Name', 'Ticket', 'Cabin'], axis=1).columns)\n",
    "score = score.sort_values(ascending=False)\n"
   ],
   "metadata": {
    "collapsed": false,
    "ExecuteTime": {
     "start_time": "2023-03-29T18:56:48.007948Z",
     "end_time": "2023-03-29T18:56:48.116510Z"
    }
   }
  },
  {
   "cell_type": "code",
   "execution_count": 122,
   "outputs": [
    {
     "data": {
      "text/plain": "<Figure size 640x480 with 1 Axes>",
      "image/png": "[encoded data removed]"
     },
     "metadata": {},
     "output_type": "display_data"
    }
   ],
   "source": [
    "# 2.8 Afficher dans un graphique les scores d'information mutuelle par feature\n",
    "\n",
    "scores = score.sort_values(ascending=True)\n",
    "width = np.arange(len(scores))\n",
    "ticks = list(scores.index)\n",
    "plt.barh(width, scores)\n",
    "plt.yticks(width, ticks)\n",
    "plt.title(\"Scores d'information mutuelle par colonne\")\n",
    "plt.show()\n"
   ],
   "metadata": {
    "collapsed": false,
    "ExecuteTime": {
     "start_time": "2023-03-29T18:56:48.669048Z",
     "end_time": "2023-03-29T18:56:48.920985Z"
    }
   }
  },
  {
   "cell_type": "code",
   "execution_count": 123,
   "outputs": [],
   "source": [
    "# Question 1 : La variable Classe est-elle utile pour prévoir la survie ? Pourquoi ?\n",
    "\n",
    "# La variable classe est un bon indicateur de survie comme nous pouvons le voir sur le schéma ci-dessus. La classe 3 a plus de chance de ne pas survivre.\n",
    "\n",
    "# Question 2 : Même question pour la variable Sex\n",
    "\n",
    "# La variable Sex est un bon indicateur de survie comme nous pouvons le voir sur le schéma ci-dessus. Les femmes ont plus de chance de survie que les hommes.\n",
    "\n",
    "# Question 3 : Comment traiter les variables liées à la famille du passager ?\n",
    "\n"
   ],
   "metadata": {
    "collapsed": false,
    "ExecuteTime": {
     "start_time": "2023-03-29T18:56:49.722409Z",
     "end_time": "2023-03-29T18:56:49.727922Z"
    }
   }
  },
  {
   "cell_type": "code",
   "execution_count": 124,
   "outputs": [
    {
     "name": "stdout",
     "output_type": "stream",
     "text": [
      "     PassengerId                            Name   Age     Sex Embarked\n",
      "7              8  Palsson, Master. Gosta Leonard   2.0    male        S\n",
      "195          196            Lurette, Miss. Elise  58.0  female        C\n",
      "512          513       McGough, Mr. James Robert  36.0    male        S\n",
      "517          518               Ryan, Mr. Patrick  28.0    male        Q\n",
      "309          310  Francatelli, Miss. Laura Mabel  30.0  female        C\n",
      "627          628   Longley, Miss. Gretchen Fiske  21.0  female        S\n",
      "501          502             Canavan, Miss. Mary  21.0  female        Q\n",
      "313          314          Hendekovic, Mr. Ignjac  28.0    male        S\n",
      "221          222            Bracken, Mr. James H  27.0    male        S\n",
      "870          871               Balkic, Mr. Cerin  26.0    male        S\n"
     ]
    }
   ],
   "source": [
    "# 3.1 La variable \"Embarked\" possède des valeurs nulles, compléter par la valeur majoritaire (S).\n",
    "\n",
    "train['Embarked'].fillna('S', inplace=True)\n",
    "test['Embarked'].fillna('S', inplace=True)\n",
    "\n",
    "print(train[['PassengerId', 'Name', 'Age', 'Sex', 'Embarked']].sample(10))"
   ],
   "metadata": {
    "collapsed": false,
    "ExecuteTime": {
     "start_time": "2023-03-29T18:56:50.530647Z",
     "end_time": "2023-03-29T18:56:50.539222Z"
    }
   }
  },
  {
   "cell_type": "code",
   "execution_count": 125,
   "outputs": [
    {
     "name": "stdout",
     "output_type": "stream",
     "text": [
      "Embarked\n",
      "C    55.36\n",
      "Q    38.96\n",
      "S    33.90\n",
      "Name: Survived, dtype: float64\n"
     ]
    }
   ],
   "source": [
    "# 3.2 Afficher l'influence du port d'embarquement sur la Survie\n",
    "\n",
    "survived_embarked = round(train.groupby(['Embarked'])['Survived'].mean() * 100, 2)\n",
    "\n",
    "print(survived_embarked)"
   ],
   "metadata": {
    "collapsed": false,
    "ExecuteTime": {
     "start_time": "2023-03-29T18:56:51.070883Z",
     "end_time": "2023-03-29T18:56:51.091390Z"
    }
   }
  },
  {
   "cell_type": "code",
   "execution_count": 126,
   "outputs": [
    {
     "name": "stdout",
     "output_type": "stream",
     "text": [
      "     PassengerId                                               Name   Age  \\\n",
      "457          458                  Kenyon, Mrs. Frederick R (Marion)  28.0   \n",
      "126          127                                McMahon, Mr. Martin  28.0   \n",
      "744          745                                 Stranden, Mr. Juho  31.0   \n",
      "729          730                      Ilmakangas, Miss. Pieta Sofia  25.0   \n",
      "81            82                        Sheerlinck, Mr. Jan Baptist  29.0   \n",
      "657          658                      Bourke, Mrs. John (Catherine)  32.0   \n",
      "272          273          Mellinger, Mrs. (Elizabeth Anne Maidment)  41.0   \n",
      "16            17                               Rice, Master. Eugene   2.0   \n",
      "431          432  Thorneycroft, Mrs. Percival (Florence Kate White)  28.0   \n",
      "613          614                                   Horgan, Mr. John  28.0   \n",
      "\n",
      "        Sex     Fare  \n",
      "457  female  51.8625  \n",
      "126    male   7.7500  \n",
      "744    male   7.9250  \n",
      "729  female   7.9250  \n",
      "81     male   9.5000  \n",
      "657  female  15.5000  \n",
      "272  female  19.5000  \n",
      "16     male  29.1250  \n",
      "431  female  16.1000  \n",
      "613    male   7.7500  \n"
     ]
    }
   ],
   "source": [
    "# 3.3 La variable \"Fare\" (prix du ticket) possède des valeurs manquantes. Remplacer ces valeurs par la valeur médiane.\n",
    "\n",
    "train['Fare'].fillna(train['Fare'].median(), inplace=True)\n",
    "test['Fare'].fillna(test['Fare'].median(), inplace=True)\n",
    "\n",
    "print(train[['PassengerId', 'Name', 'Age', 'Sex', 'Fare']].sample(10))"
   ],
   "metadata": {
    "collapsed": false,
    "ExecuteTime": {
     "start_time": "2023-03-29T18:56:52.070507Z",
     "end_time": "2023-03-29T18:56:52.094748Z"
    }
   }
  },
  {
   "cell_type": "code",
   "execution_count": 127,
   "outputs": [],
   "source": [
    "# 3.4 Créer une variable CategoricalFare Découpant la valeur de ticket en 4 catégories de tailles à peu près égales.\n",
    "\n",
    "train['CategoricalFare'] = pd.cut(train['Fare'], 4)\n",
    "test['CategoricalFare'] = pd.cut(test['Fare'], 4)\n"
   ],
   "metadata": {
    "collapsed": false,
    "ExecuteTime": {
     "start_time": "2023-03-29T18:56:52.420177Z",
     "end_time": "2023-03-29T18:56:52.431691Z"
    }
   }
  },
  {
   "cell_type": "code",
   "execution_count": 128,
   "outputs": [
    {
     "name": "stdout",
     "output_type": "stream",
     "text": [
      "CategoricalFare\n",
      "(-0.512, 128.082]      36.81\n",
      "(128.082, 256.165]     72.41\n",
      "(256.165, 384.247]     66.67\n",
      "(384.247, 512.329]    100.00\n",
      "Name: Survived, dtype: float64\n"
     ]
    }
   ],
   "source": [
    "# 3.5 Analyser l'effet de ces catégories de prix de ticket sur la survie.\n",
    "\n",
    "survived_fare = round(train.groupby(['CategoricalFare'])['Survived'].mean() * 100, 2)\n",
    "\n",
    "print(survived_fare)\n"
   ],
   "metadata": {
    "collapsed": false,
    "ExecuteTime": {
     "start_time": "2023-03-29T18:56:53.205827Z",
     "end_time": "2023-03-29T18:56:53.211825Z"
    }
   }
  },
  {
   "cell_type": "code",
   "execution_count": 129,
   "outputs": [],
   "source": [
    "# 3.6 Combien de valeurs d'Age manquent ? Complète par des valeurs entières aléatoires entre (moyenne - écart type) et (moyenne + écart type).\n",
    "\n",
    "\n"
   ],
   "metadata": {
    "collapsed": false,
    "ExecuteTime": {
     "start_time": "2023-03-29T18:56:53.684519Z",
     "end_time": "2023-03-29T18:56:53.691698Z"
    }
   }
  },
  {
   "cell_type": "code",
   "execution_count": 130,
   "outputs": [],
   "source": [
    "# 3.7 Créer une variable CategoricalAge Découpant la valeur d'age en 5 catégories égales.\n",
    "\n",
    "train['CategoricalAge'] = pd.cut(train['Age'], 5)\n",
    "test['CategoricalAge'] = pd.cut(test['Age'], 5)\n"
   ],
   "metadata": {
    "collapsed": false,
    "ExecuteTime": {
     "start_time": "2023-03-29T18:56:54.097993Z",
     "end_time": "2023-03-29T18:56:54.124524Z"
    }
   }
  },
  {
   "cell_type": "code",
   "execution_count": 131,
   "outputs": [
    {
     "name": "stdout",
     "output_type": "stream",
     "text": [
      "CategoricalAge\n",
      "(0.34, 16.336]      55.00\n",
      "(16.336, 32.252]    34.42\n",
      "(32.252, 48.168]    40.43\n",
      "(48.168, 64.084]    43.48\n",
      "(64.084, 80.0]       9.09\n",
      "Name: Survived, dtype: float64\n"
     ]
    }
   ],
   "source": [
    "# 3.8 Analyser l'effet de ces catégories d'age sur la survie.\n",
    "\n",
    "survived_age = round(train.groupby(['CategoricalAge'])['Survived'].mean() * 100, 2)\n",
    "\n",
    "print(survived_age)\n"
   ],
   "metadata": {
    "collapsed": false,
    "ExecuteTime": {
     "start_time": "2023-03-29T18:56:54.500888Z",
     "end_time": "2023-03-29T18:56:54.534427Z"
    }
   }
  },
  {
   "cell_type": "code",
   "execution_count": 132,
   "outputs": [],
   "source": [
    "# Question 1 : Classer les variables par ordre d'intérêt\n",
    "\n",
    "# Class, sex , embarked, age, fare et familySize."
   ],
   "metadata": {
    "collapsed": false,
    "ExecuteTime": {
     "start_time": "2023-03-29T18:56:54.768618Z",
     "end_time": "2023-03-29T18:56:54.833066Z"
    }
   }
  },
  {
   "cell_type": "code",
   "execution_count": 133,
   "outputs": [],
   "source": [
    "# 4.1 : Le nom permet de retrouver le titre du passager. Trouver les titres lorsqu'ils existent.\n",
    "\n",
    "train['Titre'] = train['Name'].str.extract(' ([A-Za-z]+)\\.', expand=False)\n",
    "test['Titre'] = test['Name'].str.extract(' ([A-Za-z]+)\\.', expand=False)\n"
   ],
   "metadata": {
    "collapsed": false,
    "ExecuteTime": {
     "start_time": "2023-03-29T18:56:55.213272Z",
     "end_time": "2023-03-29T18:56:55.238903Z"
    }
   }
  },
  {
   "cell_type": "code",
   "execution_count": 134,
   "outputs": [
    {
     "data": {
      "text/plain": "Sex     female  male\nTitre               \nCol          0     2\nDona         1     0\nDr           0     1\nMaster       0    21\nMiss        78     0\nMr           0   240\nMrs         72     0\nMs           1     0\nRev          0     2",
      "text/html": "<div>\n<style scoped>\n    .dataframe tbody tr th:only-of-type {\n        vertical-align: middle;\n    }\n\n    .dataframe tbody tr th {\n        vertical-align: top;\n    }\n\n    .dataframe thead th {\n        text-align: right;\n    }\n</style>\n<table border=\"1\" class=\"dataframe\">\n  <thead>\n    <tr style=\"text-align: right;\">\n      <th>Sex</th>\n      <th>female</th>\n      <th>male</th>\n    </tr>\n    <tr>\n      <th>Titre</th>\n      <th></th>\n      <th></th>\n    </tr>\n  </thead>\n  <tbody>\n    <tr>\n      <th>Col</th>\n      <td>0</td>\n      <td>2</td>\n    </tr>\n    <tr>\n      <th>Dona</th>\n      <td>1</td>\n      <td>0</td>\n    </tr>\n    <tr>\n      <th>Dr</th>\n      <td>0</td>\n      <td>1</td>\n    </tr>\n    <tr>\n      <th>Master</th>\n      <td>0</td>\n      <td>21</td>\n    </tr>\n    <tr>\n      <th>Miss</th>\n      <td>78</td>\n      <td>0</td>\n    </tr>\n    <tr>\n      <th>Mr</th>\n      <td>0</td>\n      <td>240</td>\n    </tr>\n    <tr>\n      <th>Mrs</th>\n      <td>72</td>\n      <td>0</td>\n    </tr>\n    <tr>\n      <th>Ms</th>\n      <td>1</td>\n      <td>0</td>\n    </tr>\n    <tr>\n      <th>Rev</th>\n      <td>0</td>\n      <td>2</td>\n    </tr>\n  </tbody>\n</table>\n</div>"
     },
     "execution_count": 134,
     "metadata": {},
     "output_type": "execute_result"
    }
   ],
   "source": [
    "# 4.2 : En utilisant la fonction pandas crosstab, afficher pour train le nombre d'occurrences par titres (en ligne) et par sexe (en colonne)\n",
    "\n",
    "pd.crosstab(train['Titre'], train['Sex'])\n",
    "pd.crosstab(test['Titre'], test['Sex'])\n"
   ],
   "metadata": {
    "collapsed": false,
    "ExecuteTime": {
     "start_time": "2023-03-29T18:56:55.586488Z",
     "end_time": "2023-03-29T18:56:55.649085Z"
    }
   }
  },
  {
   "cell_type": "code",
   "execution_count": 135,
   "outputs": [
    {
     "name": "stdout",
     "output_type": "stream",
     "text": [
      "Titre\n",
      "Master    57.50\n",
      "Miss      70.27\n",
      "Mr        15.67\n",
      "Mrs       79.37\n",
      "Rare      34.78\n",
      "Name: Survived, dtype: float64\n"
     ]
    }
   ],
   "source": [
    "#4.3 : Remplacer 'Melle et 'Ms' par 'Miss'\n",
    "#      Remplacer 'Mme' par 'Mrs'\n",
    "# Créer une valeur \"Rare\" pour les autres titres avec moins de 10 occurrences.\n",
    "# Calculer ensuite le taux de survie par titre\n",
    "\n",
    "train['Titre'] = train['Titre'].replace(['Mlle', 'Ms'], 'Miss')\n",
    "train['Titre'] = train['Titre'].replace('Mme', 'Mrs')\n",
    "\n",
    "counts = train['Titre'].value_counts()\n",
    "\n",
    "replace = counts[counts < 10].index\n",
    "\n",
    "train['Titre'] = train['Titre'].replace(replace, 'Rare')\n",
    "\n",
    "survived_title = round(train.groupby(['Titre'])['Survived'].mean() * 100, 2)\n",
    "\n",
    "print(survived_title)"
   ],
   "metadata": {
    "collapsed": false,
    "ExecuteTime": {
     "start_time": "2023-03-29T18:56:56.092812Z",
     "end_time": "2023-03-29T18:56:56.197924Z"
    }
   }
  },
  {
   "cell_type": "code",
   "execution_count": 136,
   "outputs": [],
   "source": [
    "# 5.1 Attribuer une valeur numérique au Genre. Par exemple 0 pour 'female' et 1 pour 'male'\n",
    "\n",
    "train['Sex'].replace(['female','male'], [0,1], inplace=True)\n",
    "test['Sex'].replace(['female','male'], [0,1], inplace=True)\n"
   ],
   "metadata": {
    "collapsed": false,
    "ExecuteTime": {
     "start_time": "2023-03-29T18:56:56.489055Z",
     "end_time": "2023-03-29T18:56:56.512979Z"
    }
   }
  },
  {
   "cell_type": "code",
   "execution_count": 137,
   "outputs": [],
   "source": [
    "# 5.2 : Attribuer une valeur pour les possibilités de la variable \"Title\" ('Master','Miss','Mr','Mrs','Rare'). (Question optionnel 4 nécessaires)\n",
    "\n",
    "mapping = {\"Master\" : 1, \"Miss\" : 2, \"Mr\" : 3, \"Mrs\" : 4, \"Rare\" : 5}\n",
    "\n",
    "train['Titre'] = train['Titre'].map(mapping)\n",
    "test['Titre'] = test['Titre'].map(mapping)\n"
   ],
   "metadata": {
    "collapsed": false,
    "ExecuteTime": {
     "start_time": "2023-03-29T18:56:57.105821Z",
     "end_time": "2023-03-29T18:56:57.110822Z"
    }
   }
  },
  {
   "cell_type": "code",
   "execution_count": 138,
   "outputs": [],
   "source": [
    "# 5.3 Remplacer les titres manquant par 0, et attribuer à la colonne le type entier. (Question optionnelle 4 nécessaires)\n",
    "\n",
    "train['Titre'].fillna(0, inplace=True)\n",
    "test['Titre'].fillna(0, inplace=True)\n",
    "\n",
    "train['Titre'] = train['Titre'].astype(int)\n",
    "test['Titre'] = test['Titre'].astype(int)\n"
   ],
   "metadata": {
    "collapsed": false,
    "ExecuteTime": {
     "start_time": "2023-03-29T18:56:57.747488Z",
     "end_time": "2023-03-29T18:56:57.751601Z"
    }
   }
  },
  {
   "cell_type": "code",
   "execution_count": 139,
   "outputs": [],
   "source": [
    "# 5.4 Attribuer une valeur numérique aux 4 catégories de la variable Fare (question 3.6)\n",
    "\n"
   ],
   "metadata": {
    "collapsed": false,
    "ExecuteTime": {
     "start_time": "2023-03-29T18:56:58.205844Z",
     "end_time": "2023-03-29T18:56:58.211844Z"
    }
   }
  },
  {
   "cell_type": "code",
   "execution_count": 140,
   "outputs": [],
   "source": [
    "# 5.5 Attribuer une valeur numérique au Port d'embarquement (Embarked)\n",
    "\n",
    "mapping = {'S': 0, 'C': 1, 'Q': 2}\n",
    "\n",
    "train['Embarked'] = train['Embarked'].map(mapping)\n",
    "test['Embarked'] = test['Embarked'].map(mapping)\n"
   ],
   "metadata": {
    "collapsed": false,
    "ExecuteTime": {
     "start_time": "2023-03-29T18:56:58.619508Z",
     "end_time": "2023-03-29T18:56:58.649556Z"
    }
   }
  },
  {
   "cell_type": "code",
   "execution_count": 141,
   "outputs": [],
   "source": [
    "# 5.6 Supprimer les features inutiles\n",
    "\n",
    "\n"
   ],
   "metadata": {
    "collapsed": false,
    "ExecuteTime": {
     "start_time": "2023-03-29T18:56:59.013051Z",
     "end_time": "2023-03-29T18:56:59.024577Z"
    }
   }
  },
  {
   "cell_type": "code",
   "execution_count": 142,
   "outputs": [
    {
     "name": "stdout",
     "output_type": "stream",
     "text": [
      "<bound method DataFrame.info of      PassengerId  Survived  Pclass  \\\n",
      "0              1         0       3   \n",
      "1              2         1       1   \n",
      "2              3         1       3   \n",
      "3              4         1       1   \n",
      "4              5         0       3   \n",
      "..           ...       ...     ...   \n",
      "886          887         0       2   \n",
      "887          888         1       1   \n",
      "888          889         0       3   \n",
      "889          890         1       1   \n",
      "890          891         0       3   \n",
      "\n",
      "                                                  Name  Sex   Age  SibSp  \\\n",
      "0                              Braund, Mr. Owen Harris    1  22.0      1   \n",
      "1    Cumings, Mrs. John Bradley (Florence Briggs Th...    0  38.0      1   \n",
      "2                               Heikkinen, Miss. Laina    0  26.0      0   \n",
      "3         Futrelle, Mrs. Jacques Heath (Lily May Peel)    0  35.0      1   \n",
      "4                             Allen, Mr. William Henry    1  35.0      0   \n",
      "..                                                 ...  ...   ...    ...   \n",
      "886                              Montvila, Rev. Juozas    1  27.0      0   \n",
      "887                       Graham, Miss. Margaret Edith    0  19.0      0   \n",
      "888           Johnston, Miss. Catherine Helen \"Carrie\"    0  28.0      1   \n",
      "889                              Behr, Mr. Karl Howell    1  26.0      0   \n",
      "890                                Dooley, Mr. Patrick    1  32.0      0   \n",
      "\n",
      "     Parch            Ticket     Fare Cabin  Embarked  FamilySize  isAlone  \\\n",
      "0        0         A/5 21171   7.2500   NaN         0           2        0   \n",
      "1        0          PC 17599  71.2833   C85         1           2        0   \n",
      "2        0  STON/O2. 3101282   7.9250   NaN         0           1        1   \n",
      "3        0            113803  53.1000  C123         0           2        0   \n",
      "4        0            373450   8.0500   NaN         0           1        1   \n",
      "..     ...               ...      ...   ...       ...         ...      ...   \n",
      "886      0            211536  13.0000   NaN         0           1        1   \n",
      "887      0            112053  30.0000   B42         0           1        1   \n",
      "888      2        W./C. 6607  23.4500   NaN         0           4        0   \n",
      "889      0            111369  30.0000  C148         1           1        1   \n",
      "890      0            370376   7.7500   NaN         2           1        1   \n",
      "\n",
      "       CategoricalFare    CategoricalAge  Titre  \n",
      "0    (-0.512, 128.082]  (16.336, 32.252]      3  \n",
      "1    (-0.512, 128.082]  (32.252, 48.168]      4  \n",
      "2    (-0.512, 128.082]  (16.336, 32.252]      2  \n",
      "3    (-0.512, 128.082]  (32.252, 48.168]      4  \n",
      "4    (-0.512, 128.082]  (32.252, 48.168]      3  \n",
      "..                 ...               ...    ...  \n",
      "886  (-0.512, 128.082]  (16.336, 32.252]      5  \n",
      "887  (-0.512, 128.082]  (16.336, 32.252]      2  \n",
      "888  (-0.512, 128.082]  (16.336, 32.252]      2  \n",
      "889  (-0.512, 128.082]  (16.336, 32.252]      3  \n",
      "890  (-0.512, 128.082]  (16.336, 32.252]      3  \n",
      "\n",
      "[891 rows x 17 columns]>\n",
      "<bound method DataFrame.info of      PassengerId  Pclass                                          Name  Sex  \\\n",
      "0            892       3                              Kelly, Mr. James    1   \n",
      "1            893       3              Wilkes, Mrs. James (Ellen Needs)    0   \n",
      "2            894       2                     Myles, Mr. Thomas Francis    1   \n",
      "3            895       3                              Wirz, Mr. Albert    1   \n",
      "4            896       3  Hirvonen, Mrs. Alexander (Helga E Lindqvist)    0   \n",
      "..           ...     ...                                           ...  ...   \n",
      "413         1305       3                            Spector, Mr. Woolf    1   \n",
      "414         1306       1                  Oliva y Ocana, Dona. Fermina    0   \n",
      "415         1307       3                  Saether, Mr. Simon Sivertsen    1   \n",
      "416         1308       3                           Ware, Mr. Frederick    1   \n",
      "417         1309       3                      Peter, Master. Michael J    1   \n",
      "\n",
      "      Age  SibSp  Parch              Ticket      Fare Cabin  Embarked  \\\n",
      "0    34.5      0      0              330911    7.8292   NaN         2   \n",
      "1    47.0      1      0              363272    7.0000   NaN         0   \n",
      "2    62.0      0      0              240276    9.6875   NaN         2   \n",
      "3    27.0      0      0              315154    8.6625   NaN         0   \n",
      "4    22.0      1      1             3101298   12.2875   NaN         0   \n",
      "..    ...    ...    ...                 ...       ...   ...       ...   \n",
      "413   NaN      0      0           A.5. 3236    8.0500   NaN         0   \n",
      "414  39.0      0      0            PC 17758  108.9000  C105         1   \n",
      "415  38.5      0      0  SOTON/O.Q. 3101262    7.2500   NaN         0   \n",
      "416   NaN      0      0              359309    8.0500   NaN         0   \n",
      "417   NaN      1      1                2668   22.3583   NaN         1   \n",
      "\n",
      "     FamilySize  isAlone    CategoricalFare    CategoricalAge  Titre  \n",
      "0             1        1  (-0.512, 128.082]  (30.502, 45.668]      3  \n",
      "1             2        0  (-0.512, 128.082]  (45.668, 60.834]      4  \n",
      "2             1        1  (-0.512, 128.082]    (60.834, 76.0]      3  \n",
      "3             1        1  (-0.512, 128.082]  (15.336, 30.502]      3  \n",
      "4             3        0  (-0.512, 128.082]  (15.336, 30.502]      4  \n",
      "..          ...      ...                ...               ...    ...  \n",
      "413           1        1  (-0.512, 128.082]               NaN      3  \n",
      "414           1        1  (-0.512, 128.082]  (30.502, 45.668]      0  \n",
      "415           1        1  (-0.512, 128.082]  (30.502, 45.668]      3  \n",
      "416           1        1  (-0.512, 128.082]               NaN      3  \n",
      "417           3        0  (-0.512, 128.082]               NaN      1  \n",
      "\n",
      "[418 rows x 16 columns]>\n"
     ]
    }
   ],
   "source": [
    "# 5.7 Afficher les infos pour les deux datasets\n",
    "\n",
    "print(train.info)\n",
    "\n",
    "print(test.info)"
   ],
   "metadata": {
    "collapsed": false,
    "ExecuteTime": {
     "start_time": "2023-03-29T18:56:59.464512Z",
     "end_time": "2023-03-29T18:56:59.491891Z"
    }
   }
  },
  {
   "cell_type": "code",
   "execution_count": 143,
   "outputs": [],
   "source": [
    "# 5.8 Sauver les deux datasets dans des fichiers csv. Éviter d'écrire un index (n° de ligne)\n",
    "\n",
    "train.to_csv('train.csv', index=False)\n",
    "test.to_csv('test.csv', index=False)\n"
   ],
   "metadata": {
    "collapsed": false,
    "ExecuteTime": {
     "start_time": "2023-03-29T18:56:59.943367Z",
     "end_time": "2023-03-29T18:56:59.997038Z"
    }
   }
  },
  {
   "cell_type": "code",
   "execution_count": 144,
   "outputs": [],
   "source": [
    "# Question : Sur combien de questions avez-vous utilisé les conseils ?\n",
    "\n",
    "# 8 questions\n"
   ],
   "metadata": {
    "collapsed": false,
    "ExecuteTime": {
     "start_time": "2023-03-29T18:57:00.747611Z",
     "end_time": "2023-03-29T18:57:00.781664Z"
    }
   }
  }
 ],
 "metadata": {
  "kernelspec": {
   "display_name": "Python 3",
   "language": "python",
   "name": "python3"
  },
  "language_info": {
   "codemirror_mode": {
    "name": "ipython",
    "version": 2
   },
   "file_extension": ".py",
   "mimetype": "text/x-python",
   "name": "python",
   "nbconvert_exporter": "python",
   "pygments_lexer": "ipython2",
   "version": "2.7.6"
  }
 },
 "nbformat": 4,
 "nbformat_minor": 0
}
